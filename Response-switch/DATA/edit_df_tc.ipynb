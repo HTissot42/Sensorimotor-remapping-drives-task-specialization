{
 "cells": [
  {
   "cell_type": "code",
   "execution_count": 4,
   "id": "25b50a9a-1213-4880-b54c-bc39ab271e0b",
   "metadata": {},
   "outputs": [],
   "source": [
    "import numpy as np\n",
    "import pandas as pd\n",
    "import pickle"
   ]
  },
  {
   "cell_type": "code",
   "execution_count": 6,
   "id": "57f1c6a4-4b1c-4510-8610-cc92ebd63b8b",
   "metadata": {},
   "outputs": [],
   "source": [
    "def remove_NaN(d) :  \n",
    "    \"\"\" Remove rows of a DataFrame with missing firing rate \"\"\"\n",
    "    M = np.stack(d['Spike rate'])\n",
    "    NaN_rows = np.isnan(M).any(axis=1)\n",
    "    return d.iloc[~NaN_rows,:]\n",
    "\n",
    "\n",
    "def produce_trial_index(d) :\n",
    "    \"\"\"Produce a dictionnary of trial indices corresponding to each label.\"\"\"\n",
    "    \n",
    "    trial_idx = None\n",
    "    \n",
    "    go_hit_idx = (d['Choice'] == 1)&(d['Category ID'] == 2)&(d['Context'] == 0)\n",
    "    go_error_idx = (d['Choice'] == 1)&(d['Category ID'] == 1)&(d['Context'] == 0)\n",
    "\n",
    "    nogo_hit_idx = (d['Choice'] == -1)&(d['Category ID'] == 1)&(d['Context'] == 0)\n",
    "    nogo_error_idx = (d['Choice'] == -1)&(d['Category ID'] == 2)&(d['Context'] == 0)\n",
    "\n",
    "    right_hit_idx = (d['Choice'] == 1) & (d['Category ID'] == 2)&(d['Context'] == 1)\n",
    "    left_hit_idx = (d['Choice'] == -1) & (d['Category ID'] == 1)&(d['Context'] == 1)\n",
    "\n",
    "    right_error_idx = (d['Choice'] == 1) & (d['Category ID'] == 1)&(d['Context'] == 1)\n",
    "    left_error_idx = (d['Choice'] == -1) & (d['Category ID'] == 2)&(d['Context'] == 1)\n",
    "\n",
    "    # Snooze : The animal did not respond in the 2AFC paradigm.\n",
    "    snooze_right_idx = (d['Choice'] == 0)&(d['Category ID'] == 2)&(d['Context'] == 1)\n",
    "    snooze_left_idx = (d['Choice'] == 0)&(d['Category ID'] == 1)&(d['Context'] == 1)\n",
    "\n",
    "    trial_idx = {'Go / Go : Hit' : go_hit_idx, 'Go / Nogo : Miss':nogo_error_idx, 'NoGo / NoGo : CR' : nogo_hit_idx , \\\n",
    "              'NoGo / Go : FA' : go_error_idx,  'Left / Left':left_hit_idx, 'Left / Right':left_error_idx, 'Left / Snooze':snooze_left_idx, \\\n",
    "           'Right / Right':right_hit_idx, 'Right / Left':right_error_idx, 'Right / Snooze':snooze_right_idx}\n",
    "\n",
    "    return trial_idx\n",
    "\n",
    "def generate_column_label(d) :\n",
    "    \n",
    "    trial_idx = produce_trial_index(d)\n",
    "\n",
    "    # Add corresponding labels to trial in each DataFrame.\n",
    "    #labels = [k for k in range(1,9)]\n",
    "\n",
    "    condition = 1\n",
    "    trial_label = np.zeros(len(d))\n",
    "    for idx in trial_idx.values() :\n",
    "        trial_label += idx*condition\n",
    "        condition += 1\n",
    "\n",
    "    if 'Label' not in d :\n",
    "        d.insert(6, 'Label', trial_label)\n",
    "\n",
    "    # Add a column 'Label' to full DataFrames\n",
    "    # 1 : Go / Go Hit,  2 : Go / Nogo : Miss,   3 :NoGo / NoGo : CR , 4: NoGo / Go : FA\n",
    "    # 5 : Left / Left, 6 : Left / Right , 7 : Left / Snooze,  8 : Right / Right, 9 : Right / Left, 10 : Right / Snooze\n",
    "\n",
    "    # Stimuli category / Animal response\n",
    "\n",
    "    \n"
   ]
  },
  {
   "cell_type": "code",
   "execution_count": 8,
   "id": "be92909f-9ca4-4a7d-a60b-8d37d2ffe74d",
   "metadata": {},
   "outputs": [],
   "source": [
    "files = ['M12','M13','M14','M15','M16','M17','M18','M19','M20']\n",
    "\n",
    "df_lr = [pd.read_pickle('Pickles/' + file + '_LR') for file in files]\n",
    "\n",
    "df_t5 = [pd.read_pickle('Pickles/' + file + '_GNG') for file in files]\n",
    "\n",
    "data_lr = {files[i]:df_lr[i] for i in range(len(files))}\n",
    "data_t5 = {files[i]:df_t5[i] for i in range(len(files))}"
   ]
  },
  {
   "cell_type": "code",
   "execution_count": 10,
   "id": "78812a06-280f-48db-a32b-2decad0f32dd",
   "metadata": {},
   "outputs": [],
   "source": [
    "# Add time data to the dataframe. \n",
    "# Column name for all time points: \"Traj\"\n",
    "# Column name for mean Pre-stimulus and Post-stimulus: \"Pre/Post\"\n",
    "for file in files :\n",
    "    traj_mouse_GNG = np.load('npy_extended/' + file + '_trajGNG.npy')\n",
    "    traj_mouse_LR = np.load('npy_extended/' + file + '_trajLR.npy')\n",
    "    data_t5[file]['Traj'] = list(traj_mouse_GNG) \n",
    "    data_lr[file]['Traj'] = list(traj_mouse_LR)\n",
    "    \n",
    "    T = np.shape(traj_mouse_GNG)[1]\n",
    "    \n",
    "    pre_post_GNG = np.array([np.mean(traj_mouse_GNG[:,:T//2,:],axis=1),np.mean(traj_mouse_GNG[:,T//2:,:],axis=1)])\n",
    "    pre_post_GNG = np.swapaxes(pre_post_GNG,0,1)\n",
    "    \n",
    "    pre_post_LR = np.array([np.mean(traj_mouse_LR[:,:T//2,:],axis=1),np.mean(traj_mouse_LR[:,T//2:,:],axis=1)])\n",
    "    pre_post_LR = np.swapaxes(pre_post_LR,0,1)\n",
    "    \n",
    "    data_t5[file]['Pre/Post'] = list(pre_post_GNG)\n",
    "    data_lr[file]['Pre/Post'] = list(pre_post_LR)"
   ]
  },
  {
   "cell_type": "code",
   "execution_count": 12,
   "id": "20928f36-272a-4167-bfb0-b194ac018e63",
   "metadata": {},
   "outputs": [],
   "source": [
    "# Correct for data format\n",
    "for file in files :\n",
    "    data_t5[file] = remove_NaN(data_t5[file])\n",
    "    data_lr[file] = remove_NaN(data_lr[file])\n",
    "\n",
    "    data_t5[file]['Reward'] = data_t5[file]['Reward'].fillna(0)\n",
    "    \n",
    "    data_t5[file]['Choice'] = 2*data_t5[file]['Choice'] - 1\n",
    "    data_lr[file]['Choice'] = (2*data_lr[file]['Choice'] - 3)*(data_lr[file]['Choice'] != 0)\n",
    "    \n",
    "    if 'Context' not in data_lr[file] :\n",
    "        data_lr[file].insert(8, 'Context', np.ones(len(data_lr[file])))\n",
    "        \n",
    "    if 'Context' not in data_t5[file] :\n",
    "        data_t5[file].insert(8, 'Context', np.zeros(len(data_t5[file])))\n",
    "        \n",
    "data_full = {file:pd.concat([data_t5[file],data_lr[file]],ignore_index=True) for file in files} "
   ]
  },
  {
   "cell_type": "code",
   "execution_count": 13,
   "id": "3f31acbf-7d5f-43e5-8084-70f6e54f5bb9",
   "metadata": {},
   "outputs": [],
   "source": [
    "# Add a column \"Motor action\" describing if the animal licked or not during the trial.\n",
    "for file in files :\n",
    "    d = data_full[file]\n",
    "    d_t5 = data_t5[file]\n",
    "    d_lr = data_lr[file]\n",
    "    \n",
    "    motor_action_t5 = d_t5['Choice'].astype(float)\n",
    "    \n",
    "    motor_action_lr = (d_lr['Go right'] + d_lr['Go left']).astype(float)\n",
    "    \n",
    "    motor_action_full = pd.concat([motor_action_t5,motor_action_lr],ignore_index = True)\n",
    "    \n",
    "    d.insert(8,'Motor action', motor_action_full)"
   ]
  },
  {
   "cell_type": "code",
   "execution_count": 16,
   "id": "1a878ecb-ad7e-465e-ab01-2334577dabea",
   "metadata": {},
   "outputs": [],
   "source": [
    "# Label each trial with its corresponding condition.\n",
    "# We have a total of 2*2 + 3*2 = 10 conditions for both tasks (see produce_trial_index function).\n",
    "for file in files :\n",
    "    generate_column_label(data_full[file])\n"
   ]
  },
  {
   "cell_type": "code",
   "execution_count": 17,
   "id": "b031ff9a-75e8-4132-98ad-ea4be53ff3a1",
   "metadata": {},
   "outputs": [],
   "source": [
    "with open('Dataframes/df_full.pickle', 'wb') as f:\n",
    "    pickle.dump(data_full, f)\n",
    "\n",
    "with open('Dataframes/df_GNG.pickle', 'wb') as f:\n",
    "    pickle.dump(data_t5, f)\n",
    "\n",
    "with open('Dataframes/df_LR.pickle', 'wb') as f:\n",
    "    pickle.dump(data_lr, f)"
   ]
  }
 ],
 "metadata": {
  "kernelspec": {
   "display_name": "Python 3 (ipykernel)",
   "language": "python",
   "name": "python3"
  },
  "language_info": {
   "codemirror_mode": {
    "name": "ipython",
    "version": 3
   },
   "file_extension": ".py",
   "mimetype": "text/x-python",
   "name": "python",
   "nbconvert_exporter": "python",
   "pygments_lexer": "ipython3",
   "version": "3.12.3"
  }
 },
 "nbformat": 4,
 "nbformat_minor": 5
}
