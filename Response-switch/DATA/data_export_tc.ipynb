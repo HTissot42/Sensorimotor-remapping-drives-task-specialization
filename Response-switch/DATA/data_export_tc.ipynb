{
 "cells": [
  {
   "cell_type": "code",
   "execution_count": 6,
   "id": "0beb0994",
   "metadata": {},
   "outputs": [],
   "source": [
    "import numpy as np\n",
    "import pandas as pd\n",
    "import scipy.io\n",
    "import os"
   ]
  },
  {
   "cell_type": "code",
   "execution_count": null,
   "id": "a06777c7",
   "metadata": {},
   "outputs": [],
   "source": [
    "files = ['M12','M13','M14','M15','M16','M17','M18','M19','M20']\n",
    "\n",
    "for file in files :\n",
    "    mat = scipy.io.loadmat('Mat/Mouse_' + file + '.mat')\n",
    "    mat = np.squeeze(mat['mouse_struct'])\n",
    "    fields = mat[-2]\n",
    "    columns = []\n",
    "    for f in fields :\n",
    "        field = np.array(f.tolist())\n",
    "        columns.append(np.squeeze(field))\n",
    "        \n",
    "    d = {'Category ID' : columns[0], 'Stim ID' : columns[1], \\\n",
    "         'Choice' : columns[2], 'Reward' : columns[3], \\\n",
    "         'Go right' : np.zeros(len(columns[0])), 'Go left' : np.zeros(len(columns[0])), \\\n",
    "         'Spike rate' : columns[8].T.tolist(),\n",
    "          'Active rule' : columns[-1]}\n",
    "    \n",
    "    \n",
    "    df = pd.DataFrame(data = d)\n",
    "    \n",
    "    df.to_pickle('Pickles/' + file + '_GNG')"
   ]
  },
  {
   "cell_type": "code",
   "execution_count": 10,
   "id": "800b2912-1552-48d8-b651-3ed153279177",
   "metadata": {},
   "outputs": [],
   "source": [
    "for file in files :\n",
    "    mat = scipy.io.loadmat('Mat/Mouse_' + file + '.mat')\n",
    "    mat = np.squeeze(mat['mouse_struct'])\n",
    "    fields = mat[-1]\n",
    "    columns = []\n",
    "    for f in fields :\n",
    "        field = np.array(f.tolist())\n",
    "        columns.append(np.squeeze(field))\n",
    "        \n",
    "    d = {'Category ID' : columns[0], 'Stim ID' : columns[1], \\\n",
    "         'Choice' : columns[2], 'Reward' : columns[3], \\\n",
    "         'Go right' : np.zeros(len(columns[0])), 'Go left' : np.zeros(len(columns[0])), \\\n",
    "         'Spike rate' : columns[8].T.tolist(),\n",
    "          'Active rule' : columns[-1]}\n",
    "    \n",
    "    \n",
    "    df = pd.DataFrame(data = d)\n",
    "    \n",
    "    df.to_pickle('Pickles/' + file + '_LR')"
   ]
  }
 ],
 "metadata": {
  "kernelspec": {
   "display_name": "Python 3 (ipykernel)",
   "language": "python",
   "name": "python3"
  },
  "language_info": {
   "codemirror_mode": {
    "name": "ipython",
    "version": 3
   },
   "file_extension": ".py",
   "mimetype": "text/x-python",
   "name": "python",
   "nbconvert_exporter": "python",
   "pygments_lexer": "ipython3",
   "version": "3.12.3"
  },
  "toc-autonumbering": true
 },
 "nbformat": 4,
 "nbformat_minor": 5
}
