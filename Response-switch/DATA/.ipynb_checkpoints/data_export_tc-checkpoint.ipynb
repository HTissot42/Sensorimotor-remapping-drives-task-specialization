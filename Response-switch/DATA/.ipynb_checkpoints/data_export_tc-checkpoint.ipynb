{
 "cells": [
  {
   "cell_type": "code",
   "execution_count": 3,
   "id": "0beb0994",
   "metadata": {},
   "outputs": [],
   "source": [
    "import numpy as np\n",
    "import pandas as pd"
   ]
  },
  {
   "cell_type": "code",
   "execution_count": 4,
   "id": "adaaae45",
   "metadata": {},
   "outputs": [],
   "source": [
    "import os\n",
    "os.chdir('/Users/hugot/Documents/Stage/DATA/category-learning_mpfc/Rule-switch experiment')"
   ]
  },
  {
   "cell_type": "code",
   "execution_count": 27,
   "id": "06e32308",
   "metadata": {},
   "outputs": [
    {
     "data": {
      "text/plain": [
       "\"/Users/hugot/Documents/Stage fin d'étude/DATA/category-learning_mpfc/Rule-switch experiment\""
      ]
     },
     "execution_count": 27,
     "metadata": {},
     "output_type": "execute_result"
    }
   ],
   "source": [
    "os.path.abspath(os.getcwd())"
   ]
  },
  {
   "cell_type": "code",
   "execution_count": null,
   "id": "a06777c7",
   "metadata": {},
   "outputs": [],
   "source": [
    "import scipy.io\n",
    "\n",
    "mat = scipy.io.loadmat('Mat/Mouse_M01.mat')\n",
    "mat = np.squeeze(mat['mouse_struct'])\n",
    "\n",
    "fields = np.array(list(mat[-2]))  \n",
    "\n",
    "print(fields)\n",
    "    "
   ]
  },
  {
   "cell_type": "code",
   "execution_count": 5,
   "id": "11aee0d1",
   "metadata": {},
   "outputs": [
    {
     "name": "stdout",
     "output_type": "stream",
     "text": [
      "(148,)\n",
      "(148,)\n",
      "(148,)\n",
      "(148,)\n",
      "(148,)\n",
      "(148,)\n",
      "(148,)\n",
      "(169, 148)\n",
      "(169,)\n",
      "(169,)\n",
      "(169,)\n",
      "()\n"
     ]
    }
   ],
   "source": [
    "columns = []\n",
    "for f in fields :\n",
    "    field = np.array(f.tolist())\n",
    "    columns.append(np.squeeze(field))\n",
    "\n",
    "\n",
    "for col in columns :\n",
    "    print(np.shape(col))\n",
    "d = {'Category ID' : columns[0], 'Stim ID' : columns[1], \\\n",
    "     'Spatial frequency' : columns[2], 'Orientation' : columns[3], \\\n",
    "     'Choice' : columns[4], 'Reward' : columns[5], \\\n",
    "    'Running speed' : columns[6], 'Spike rate' : columns[7].T.tolist()}\n",
    "df = pd.DataFrame(data = d, dtype = object)"
   ]
  },
  {
   "cell_type": "code",
   "execution_count": null,
   "id": "590e744c",
   "metadata": {},
   "outputs": [],
   "source": [
    "files = ['M01','M02','M03','M04','M05','M06','M07_Region1','M07_Region2','M08_Region1','M08_Region2',\\\n",
    "         'M09_Region1','M09_Region2','M10_Region1','M10_Region2','M11_Region1','M11_Region2']\n",
    "\n",
    "for file in files :\n",
    "    mat = scipy.io.loadmat('Mat/Mouse_' + file + '.mat')\n",
    "    mat = np.squeeze(mat['mouse_struct'])\n",
    "    \n",
    "    fields4 = np.array(list(mat[-2]))\n",
    "    print(fields4[1])\n",
    "    "
   ]
  },
  {
   "cell_type": "markdown",
   "id": "02cec6db",
   "metadata": {
    "tags": []
   },
   "source": [
    "## Export into pickle all mice  (T5 and T8)"
   ]
  },
  {
   "cell_type": "code",
   "execution_count": 19,
   "id": "a52f7eee",
   "metadata": {},
   "outputs": [
    {
     "name": "stderr",
     "output_type": "stream",
     "text": [
      "/var/folders/fd/x7ht4zdn0yz2xb9997swqj0r0000gn/T/ipykernel_77503/2771609253.py:10: VisibleDeprecationWarning: Creating an ndarray from ragged nested sequences (which is a list-or-tuple of lists-or-tuples-or ndarrays with different lengths or shapes) is deprecated. If you meant to do this, you must specify 'dtype=object' when creating the ndarray.\n",
      "  fields0 = np.array(list(mat[-2])) #T4\n",
      "/var/folders/fd/x7ht4zdn0yz2xb9997swqj0r0000gn/T/ipykernel_77503/2771609253.py:13: VisibleDeprecationWarning: Creating an ndarray from ragged nested sequences (which is a list-or-tuple of lists-or-tuples-or ndarrays with different lengths or shapes) is deprecated. If you meant to do this, you must specify 'dtype=object' when creating the ndarray.\n",
      "  fields1 = np.array(list(mat[3]))  #T5\n",
      "/var/folders/fd/x7ht4zdn0yz2xb9997swqj0r0000gn/T/ipykernel_77503/2771609253.py:20: VisibleDeprecationWarning: Creating an ndarray from ragged nested sequences (which is a list-or-tuple of lists-or-tuples-or ndarrays with different lengths or shapes) is deprecated. If you meant to do this, you must specify 'dtype=object' when creating the ndarray.\n",
      "  fields2 = np.array(list(mat[-1])) #T8\n",
      "/var/folders/fd/x7ht4zdn0yz2xb9997swqj0r0000gn/T/ipykernel_77503/2771609253.py:15: VisibleDeprecationWarning: Creating an ndarray from ragged nested sequences (which is a list-or-tuple of lists-or-tuples-or ndarrays with different lengths or shapes) is deprecated. If you meant to do this, you must specify 'dtype=object' when creating the ndarray.\n",
      "  fields1 = np.array(list(mat[4]))\n",
      "/var/folders/fd/x7ht4zdn0yz2xb9997swqj0r0000gn/T/ipykernel_77503/2771609253.py:18: VisibleDeprecationWarning: Creating an ndarray from ragged nested sequences (which is a list-or-tuple of lists-or-tuples-or ndarrays with different lengths or shapes) is deprecated. If you meant to do this, you must specify 'dtype=object' when creating the ndarray.\n",
      "  fields2 = np.array(list(mat[-2]))\n"
     ]
    }
   ],
   "source": [
    "import scipy.io\n",
    "\n",
    "files = ['M01','M02','M03','M04','M05','M06','M07_Region1','M07_Region2','M08_Region1','M08_Region2',\\\n",
    "         'M09_Region1','M09_Region2','M10_Region1','M10_Region2','M11_Region1','M11_Region2']\n",
    "\n",
    "for file in files :\n",
    "    mat = scipy.io.loadmat('Mat/Mouse_' + file + '.mat')\n",
    "    mat = np.squeeze(mat['mouse_struct'])\n",
    "    \n",
    "    fields0 = np.array(list(mat[-2])) #T4\n",
    "    \n",
    "    if (file == 'M01') or (file == 'M02') :\n",
    "        fields1 = np.array(list(mat[3]))  #T5\n",
    "    else : \n",
    "        fields1 = np.array(list(mat[4]))\n",
    "    \n",
    "    if (file == 'M06') :\n",
    "        fields2 = np.array(list(mat[-2]))\n",
    "    else :\n",
    "        fields2 = np.array(list(mat[-1])) #T8\n",
    "    \n",
    "        \n",
    "    columns0 = []\n",
    "    for f in fields0 :\n",
    "        field = np.array(f.tolist())\n",
    "        columns0.append(np.squeeze(field))\n",
    "    \n",
    "    \n",
    "    columns1 = []\n",
    "    for f in fields1 :\n",
    "        field = np.array(f.tolist())\n",
    "        columns1.append(np.squeeze(field))\n",
    "        \n",
    "    columns2 = []\n",
    "    for f in fields2 :\n",
    "        field = np.array(f.tolist())\n",
    "        columns2.append(np.squeeze(field))\n",
    "\n",
    "\n",
    "    d0 = {'Category ID' : columns0[0], 'Stim ID' : columns0[1], \\\n",
    "         'Spatial frequency' : columns0[2], 'Orientation' : columns0[3], \\\n",
    "         'Choice' : columns0[4], 'Reward' : columns0[5], \\\n",
    "        'Running speed' : columns0[6], 'Spike rate' : columns0[7].T.tolist(),\n",
    "          'Active rule' : columns0[11]}\n",
    "    df0 = pd.DataFrame(data = d0, dtype = object)    \n",
    "    \n",
    "    d1 = {'Category ID' : columns1[0], 'Stim ID' : columns1[1], \\\n",
    "         'Spatial frequency' : columns1[2], 'Orientation' : columns1[3], \\\n",
    "         'Choice' : columns1[4], 'Reward' : columns1[5], \\\n",
    "        'Running speed' : columns1[6], 'Spike rate' : columns1[7].T.tolist(),\n",
    "          'Active rule' : columns1[11]}\n",
    "    df1 = pd.DataFrame(data = d1, dtype = object)\n",
    "    \n",
    "    \n",
    "    d2 = {'Category ID' : columns2[0], 'Stim ID' : columns2[1], \\\n",
    "         'Spatial frequency' : columns2[2], 'Orientation' : columns2[3], \\\n",
    "         'Choice' : columns2[4], 'Reward' : columns2[5], \\\n",
    "        'Running speed' : columns2[6], 'Spike rate' : columns2[7].T.tolist(),\\\n",
    "          'Active rule' : columns2[11]}\n",
    "    df2 = pd.DataFrame(data = d2, dtype = object)\n",
    "\n",
    "    df0.to_pickle('Pickles/' + file + '_T4')\n",
    "    df1.to_pickle('Pickles/' + file + '_T5') \n",
    "    df2.to_pickle('Pickles/' + file + '_T8') "
   ]
  },
  {
   "cell_type": "code",
   "execution_count": 22,
   "id": "ceb73bd7-b4e2-4f2a-83d4-edb85e3d1bfd",
   "metadata": {},
   "outputs": [
    {
     "data": {
      "text/html": [
       "<div>\n",
       "<style scoped>\n",
       "    .dataframe tbody tr th:only-of-type {\n",
       "        vertical-align: middle;\n",
       "    }\n",
       "\n",
       "    .dataframe tbody tr th {\n",
       "        vertical-align: top;\n",
       "    }\n",
       "\n",
       "    .dataframe thead th {\n",
       "        text-align: right;\n",
       "    }\n",
       "</style>\n",
       "<table border=\"1\" class=\"dataframe\">\n",
       "  <thead>\n",
       "    <tr style=\"text-align: right;\">\n",
       "      <th></th>\n",
       "      <th>Category ID</th>\n",
       "      <th>Stim ID</th>\n",
       "      <th>Spatial frequency</th>\n",
       "      <th>Orientation</th>\n",
       "      <th>Choice</th>\n",
       "      <th>Reward</th>\n",
       "      <th>Running speed</th>\n",
       "      <th>Spike rate</th>\n",
       "      <th>Active rule</th>\n",
       "    </tr>\n",
       "  </thead>\n",
       "  <tbody>\n",
       "    <tr>\n",
       "      <th>0</th>\n",
       "      <td>1</td>\n",
       "      <td>6</td>\n",
       "      <td>0.033</td>\n",
       "      <td>75</td>\n",
       "      <td>0</td>\n",
       "      <td>0</td>\n",
       "      <td>0.069569</td>\n",
       "      <td>[0.0, 0.0, 0.002600790843104648, 0.0, 0.0, 0.0...</td>\n",
       "      <td>SF</td>\n",
       "    </tr>\n",
       "    <tr>\n",
       "      <th>1</th>\n",
       "      <td>1</td>\n",
       "      <td>8</td>\n",
       "      <td>0.027</td>\n",
       "      <td>60</td>\n",
       "      <td>0</td>\n",
       "      <td>0</td>\n",
       "      <td>0.192925</td>\n",
       "      <td>[0.0, 0.01196746566267705, 0.0, 0.0, 0.0, 0.0,...</td>\n",
       "      <td>SF</td>\n",
       "    </tr>\n",
       "    <tr>\n",
       "      <th>2</th>\n",
       "      <td>1</td>\n",
       "      <td>1</td>\n",
       "      <td>0.023</td>\n",
       "      <td>90</td>\n",
       "      <td>0</td>\n",
       "      <td>0</td>\n",
       "      <td>0.148795</td>\n",
       "      <td>[0.0019057035790685615, 0.02767964065128998, 0...</td>\n",
       "      <td>SF</td>\n",
       "    </tr>\n",
       "    <tr>\n",
       "      <th>3</th>\n",
       "      <td>1</td>\n",
       "      <td>4</td>\n",
       "      <td>0.023</td>\n",
       "      <td>75</td>\n",
       "      <td>0</td>\n",
       "      <td>0</td>\n",
       "      <td>0.316462</td>\n",
       "      <td>[0.0, 0.0, 0.001314191298613075, 7.07970510591...</td>\n",
       "      <td>SF</td>\n",
       "    </tr>\n",
       "    <tr>\n",
       "      <th>4</th>\n",
       "      <td>5</td>\n",
       "      <td>12</td>\n",
       "      <td>0.25</td>\n",
       "      <td>90</td>\n",
       "      <td>1</td>\n",
       "      <td>1</td>\n",
       "      <td>-0.508041</td>\n",
       "      <td>[0.018511340479270087, 0.00806926897477063, 0....</td>\n",
       "      <td>SF</td>\n",
       "    </tr>\n",
       "    <tr>\n",
       "      <th>...</th>\n",
       "      <td>...</td>\n",
       "      <td>...</td>\n",
       "      <td>...</td>\n",
       "      <td>...</td>\n",
       "      <td>...</td>\n",
       "      <td>...</td>\n",
       "      <td>...</td>\n",
       "      <td>...</td>\n",
       "      <td>...</td>\n",
       "    </tr>\n",
       "    <tr>\n",
       "      <th>233</th>\n",
       "      <td>1</td>\n",
       "      <td>6</td>\n",
       "      <td>0.033</td>\n",
       "      <td>75</td>\n",
       "      <td>0</td>\n",
       "      <td>0</td>\n",
       "      <td>-0.01355</td>\n",
       "      <td>[0.0, 0.008381246762650946, 0.0, 0.01605263685...</td>\n",
       "      <td>SF</td>\n",
       "    </tr>\n",
       "    <tr>\n",
       "      <th>234</th>\n",
       "      <td>5</td>\n",
       "      <td>14</td>\n",
       "      <td>0.1</td>\n",
       "      <td>75</td>\n",
       "      <td>0</td>\n",
       "      <td>0</td>\n",
       "      <td>0.311441</td>\n",
       "      <td>[0.0, 0.0, 0.0005990355784097755, 0.0, 0.0, 0....</td>\n",
       "      <td>SF</td>\n",
       "    </tr>\n",
       "    <tr>\n",
       "      <th>235</th>\n",
       "      <td>5</td>\n",
       "      <td>18</td>\n",
       "      <td>0.25</td>\n",
       "      <td>60</td>\n",
       "      <td>0</td>\n",
       "      <td>0</td>\n",
       "      <td>-0.122603</td>\n",
       "      <td>[0.0, 0.020521502471244953, 0.0048458764540742...</td>\n",
       "      <td>SF</td>\n",
       "    </tr>\n",
       "    <tr>\n",
       "      <th>236</th>\n",
       "      <td>5</td>\n",
       "      <td>15</td>\n",
       "      <td>0.25</td>\n",
       "      <td>75</td>\n",
       "      <td>0</td>\n",
       "      <td>0</td>\n",
       "      <td>0.193982</td>\n",
       "      <td>[0.0012061226173677056, 0.0, 0.005639904111850...</td>\n",
       "      <td>SF</td>\n",
       "    </tr>\n",
       "    <tr>\n",
       "      <th>237</th>\n",
       "      <td>5</td>\n",
       "      <td>16</td>\n",
       "      <td>0.06</td>\n",
       "      <td>60</td>\n",
       "      <td>0</td>\n",
       "      <td>0</td>\n",
       "      <td>-0.163694</td>\n",
       "      <td>[0.0037546853971728755, 0.0012487789274989952,...</td>\n",
       "      <td>SF</td>\n",
       "    </tr>\n",
       "  </tbody>\n",
       "</table>\n",
       "<p>238 rows × 9 columns</p>\n",
       "</div>"
      ],
      "text/plain": [
       "    Category ID Stim ID Spatial frequency Orientation Choice Reward  \\\n",
       "0             1       6             0.033          75      0      0   \n",
       "1             1       8             0.027          60      0      0   \n",
       "2             1       1             0.023          90      0      0   \n",
       "3             1       4             0.023          75      0      0   \n",
       "4             5      12              0.25          90      1      1   \n",
       "..          ...     ...               ...         ...    ...    ...   \n",
       "233           1       6             0.033          75      0      0   \n",
       "234           5      14               0.1          75      0      0   \n",
       "235           5      18              0.25          60      0      0   \n",
       "236           5      15              0.25          75      0      0   \n",
       "237           5      16              0.06          60      0      0   \n",
       "\n",
       "    Running speed                                         Spike rate  \\\n",
       "0        0.069569  [0.0, 0.0, 0.002600790843104648, 0.0, 0.0, 0.0...   \n",
       "1        0.192925  [0.0, 0.01196746566267705, 0.0, 0.0, 0.0, 0.0,...   \n",
       "2        0.148795  [0.0019057035790685615, 0.02767964065128998, 0...   \n",
       "3        0.316462  [0.0, 0.0, 0.001314191298613075, 7.07970510591...   \n",
       "4       -0.508041  [0.018511340479270087, 0.00806926897477063, 0....   \n",
       "..            ...                                                ...   \n",
       "233      -0.01355  [0.0, 0.008381246762650946, 0.0, 0.01605263685...   \n",
       "234      0.311441  [0.0, 0.0, 0.0005990355784097755, 0.0, 0.0, 0....   \n",
       "235     -0.122603  [0.0, 0.020521502471244953, 0.0048458764540742...   \n",
       "236      0.193982  [0.0012061226173677056, 0.0, 0.005639904111850...   \n",
       "237     -0.163694  [0.0037546853971728755, 0.0012487789274989952,...   \n",
       "\n",
       "    Active rule  \n",
       "0            SF  \n",
       "1            SF  \n",
       "2            SF  \n",
       "3            SF  \n",
       "4            SF  \n",
       "..          ...  \n",
       "233          SF  \n",
       "234          SF  \n",
       "235          SF  \n",
       "236          SF  \n",
       "237          SF  \n",
       "\n",
       "[238 rows x 9 columns]"
      ]
     },
     "execution_count": 22,
     "metadata": {},
     "output_type": "execute_result"
    }
   ],
   "source": [
    "p = pd.read_pickle('Pickles/M01_T4')\n",
    "\n",
    "p"
   ]
  },
  {
   "cell_type": "markdown",
   "id": "019e98f9-9683-4cfb-898c-45bca84df885",
   "metadata": {},
   "source": [
    "## Export into pickle Task-change"
   ]
  },
  {
   "cell_type": "code",
   "execution_count": 18,
   "id": "18d6a969-29c7-4dfb-b817-8f8ad97e2512",
   "metadata": {},
   "outputs": [
    {
     "data": {
      "text/plain": [
       "(225, 270)"
      ]
     },
     "execution_count": 18,
     "metadata": {},
     "output_type": "execute_result"
    }
   ],
   "source": [
    "import scipy.io\n",
    "\n",
    "os.chdir('/Users/hugot/Documents/Stage/DATA/category-learning_mpfc/Task-change experiment')\n",
    "\n",
    "mat = scipy.io.loadmat('Mat/Mouse_M14.mat')\n",
    "mat = np.squeeze(mat['mouse_struct'])\n",
    "\n",
    "np.shape(mat[-2][8])"
   ]
  },
  {
   "cell_type": "code",
   "execution_count": 32,
   "id": "78df8a95-37df-4b08-90c3-2db48359fb57",
   "metadata": {},
   "outputs": [
    {
     "data": {
      "text/plain": [
       "78"
      ]
     },
     "execution_count": 32,
     "metadata": {},
     "output_type": "execute_result"
    }
   ],
   "source": [
    "np.sum(mat[1][2] == 1)"
   ]
  },
  {
   "cell_type": "code",
   "execution_count": 9,
   "id": "20cfb19b-de01-4e3b-999b-034286a1d9c4",
   "metadata": {},
   "outputs": [],
   "source": [
    "import scipy.io\n",
    "\n",
    "os.chdir('/Users/hugot/Documents/Stage/DATA/category-learning_mpfc/Task-change experiment')\n",
    "\n",
    "files = ['M12','M13','M14','M15','M16','M17','M18','M19','M20']\n",
    "\n",
    "\n",
    "for file in files :\n",
    "    mat = scipy.io.loadmat('Mat/Mouse_' + file + '.mat')\n",
    "    mat = np.squeeze(mat['mouse_struct'])\n",
    "    fields = mat[-1]\n",
    "    columns = []\n",
    "    for f in fields :\n",
    "        field = np.array(f.tolist())\n",
    "        columns.append(np.squeeze(field))\n",
    "        \n",
    "    d = {'Category ID' : columns[0], 'Stim ID' : columns[1], \\\n",
    "         'Choice' : columns[2], 'Reward' : columns[3], \\\n",
    "         'Go right' : columns[4], 'Go left' : columns[5], \\\n",
    "         'Spike rate' : columns[8].T.tolist(),\n",
    "          'Active rule' : columns[-1]}\n",
    "    \n",
    "    df = pd.DataFrame(data = d)\n",
    "    \n",
    "    df.to_pickle('Pickles/' + file)"
   ]
  },
  {
   "cell_type": "code",
   "execution_count": 12,
   "id": "ce45cfe0-d5bf-476b-95e2-807c6f10c064",
   "metadata": {},
   "outputs": [
    {
     "name": "stdout",
     "output_type": "stream",
     "text": [
      "239\n",
      "239\n",
      "239\n",
      "197\n",
      "197\n",
      "197\n",
      "270\n",
      "270\n",
      "270\n",
      "193\n",
      "193\n",
      "193\n",
      "258\n",
      "258\n",
      "258\n",
      "193\n",
      "193\n",
      "193\n",
      "249\n",
      "249\n",
      "249\n",
      "246\n",
      "246\n",
      "246\n",
      "246\n",
      "246\n",
      "246\n"
     ]
    }
   ],
   "source": [
    "import scipy.io\n",
    "\n",
    "os.chdir('/Users/hugot/Documents/Stage/DATA/category-learning_mpfc/Task-change experiment')\n",
    "\n",
    "files = ['M12','M13','M14','M15','M16','M17','M18','M19','M20']\n",
    "\n",
    "\n",
    "for file in files :\n",
    "    mat = scipy.io.loadmat('Mat/Mouse_' + file + '.mat')\n",
    "    mat = np.squeeze(mat['mouse_struct'])\n",
    "    fields = mat[-2]\n",
    "    columns = []\n",
    "    for f in fields :\n",
    "        field = np.array(f.tolist())\n",
    "        columns.append(np.squeeze(field))\n",
    "        \n",
    "    d = {'Category ID' : columns[0], 'Stim ID' : columns[1], \\\n",
    "         'Choice' : columns[2], 'Reward' : columns[3], \\\n",
    "         'Go right' : np.zeros(len(columns[0])), 'Go left' : np.zeros(len(columns[0])), \\\n",
    "         'Spike rate' : columns[8].T.tolist(),\n",
    "          'Active rule' : columns[-1]}\n",
    "    \n",
    "    \n",
    "    df = pd.DataFrame(data = d)\n",
    "    \n",
    "    df.to_pickle('Pickles/' + file + '_T5')"
   ]
  },
  {
   "cell_type": "code",
   "execution_count": 33,
   "id": "9382b198-44b9-48f7-b506-e09dfb2b0fbe",
   "metadata": {},
   "outputs": [
    {
     "data": {
      "text/plain": [
       "'/Users/hugot/Documents/Stage/DATA/category-learning_mpfc/Task-change experiment'"
      ]
     },
     "execution_count": 33,
     "metadata": {},
     "output_type": "execute_result"
    }
   ],
   "source": []
  }
 ],
 "metadata": {
  "kernelspec": {
   "display_name": "Python 3 (ipykernel)",
   "language": "python",
   "name": "python3"
  },
  "language_info": {
   "codemirror_mode": {
    "name": "ipython",
    "version": 3
   },
   "file_extension": ".py",
   "mimetype": "text/x-python",
   "name": "python",
   "nbconvert_exporter": "python",
   "pygments_lexer": "ipython3",
   "version": "3.9.19"
  },
  "toc-autonumbering": true
 },
 "nbformat": 4,
 "nbformat_minor": 5
}
