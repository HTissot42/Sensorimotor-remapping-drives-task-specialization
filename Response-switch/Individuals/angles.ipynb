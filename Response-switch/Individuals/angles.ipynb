{
 "cells": [
  {
   "cell_type": "code",
   "execution_count": 2,
   "id": "bfa06f2c-efa7-4367-8181-4409b224bf4a",
   "metadata": {},
   "outputs": [],
   "source": [
    "import numpy as np\n",
    "import pandas as pd\n",
    "import pickle\n",
    "import matplotlib.pyplot as plt\n",
    "from tqdm.auto import tqdm\n",
    "import matplotlib as mpl\n",
    "import pyvista as pv\n",
    "from scipy.interpolate import make_interp_spline, BSpline\n",
    "import seaborn as sns\n",
    "from scipy.stats import mannwhitneyu\n",
    "\n",
    "mpl_config = pd.read_csv('../../mpl_config.csv').to_dict(orient='records')[0]\n",
    "\n",
    "mpl.rcParams.update(mpl_config)"
   ]
  },
  {
   "cell_type": "code",
   "execution_count": 3,
   "id": "10e33ea9-18fd-4fdd-ae13-4b2ecc6d4a33",
   "metadata": {},
   "outputs": [],
   "source": [
    "def standardize(M) :   \n",
    "    \"\"\" Standardization by column for 2D matrices \"\"\"\n",
    "    \n",
    "    M_copy = np.copy(M)\n",
    "    M_copy = M_copy.astype(float)\n",
    "    for j in range(np.shape(M)[1]) :\n",
    "        if np.std(M[:,j]) != 0 :\n",
    "            M_copy[:,j] = (M[:,j].astype(float) - float(np.mean(M[:,j])))/float(np.std(M[:,j]))\n",
    "        else : \n",
    "            M_copy[:,j] = M[:,j].astype(float) - float(np.mean(M[:,j]))\n",
    "            \n",
    "    return M_copy\n",
    "\n",
    "\n",
    "def produce_trial_index(d) :\n",
    "    \"\"\"Produce a dictionnary of trial indices corresponding to each label.\"\"\"\n",
    "    \n",
    "    trial_idx = None\n",
    "    \n",
    "    go_hit_idx = (d['Choice'] == 1)&(d['Category ID'] == 2)&(d['Context'] == 0)\n",
    "    go_error_idx = (d['Choice'] == 1)&(d['Category ID'] == 1)&(d['Context'] == 0)\n",
    "\n",
    "    nogo_hit_idx = (d['Choice'] == -1)&(d['Category ID'] == 1)&(d['Context'] == 0)\n",
    "    nogo_error_idx = (d['Choice'] == -1)&(d['Category ID'] == 2)&(d['Context'] == 0)\n",
    "\n",
    "    right_hit_idx = (d['Choice'] == 1) & (d['Category ID'] == 2)&(d['Context'] == 1)\n",
    "    left_hit_idx = (d['Choice'] == -1) & (d['Category ID'] == 1)&(d['Context'] == 1)\n",
    "\n",
    "    right_error_idx = (d['Choice'] == 1) & (d['Category ID'] == 1)&(d['Context'] == 1)\n",
    "    left_error_idx = (d['Choice'] == -1) & (d['Category ID'] == 2)&(d['Context'] == 1)\n",
    "\n",
    "    # Snooze : The animal did not respond in the 2AFC paradigm.\n",
    "    snooze_right_idx = (d['Choice'] == 0)&(d['Category ID'] == 2)&(d['Context'] == 1)\n",
    "    snooze_left_idx = (d['Choice'] == 0)&(d['Category ID'] == 1)&(d['Context'] == 1)\n",
    "\n",
    "    trial_idx = {'Go / Go : Hit' : go_hit_idx, 'Go / Nogo : Miss':nogo_error_idx, 'NoGo / NoGo : CR' : nogo_hit_idx , \\\n",
    "              'NoGo / Go : FA' : go_error_idx,  'Left / Left':left_hit_idx, 'Left / Right':left_error_idx, 'Left / Snooze':snooze_left_idx, \\\n",
    "           'Right / Right':right_hit_idx, 'Right / Left':right_error_idx, 'Right / Snooze':snooze_right_idx}\n",
    "\n",
    "    return trial_idx\n",
    "\n",
    "def unit_vector(vector):\n",
    "    \"\"\" Returns the unit vector of the vector.  \"\"\"\n",
    "    return vector / np.linalg.norm(vector)\n",
    "\n",
    "\n",
    "def angle_between(v1, v2, directed = False):\n",
    "    \"\"\" Returns the angle in radians between vectors 'v1' and 'v2'\"\"\"\n",
    "    v1_u = unit_vector(v1)\n",
    "    v2_u = unit_vector(v2)\n",
    "    delta = np.arccos(np.dot(v1_u, v2_u))*180/np.pi\n",
    "\n",
    "    if not directed : \n",
    "        if delta > 90 :\n",
    "            delta = 180 - delta\n",
    "    return delta\n",
    "\n",
    "\n",
    "\n",
    "def set_color(bplot,colors) :\n",
    "    \"\"\"Method to render box plots\"\"\"\n",
    "    for patch, color in zip(bplot['boxes'], colors):\n",
    "        patch.set_facecolor(color)\n",
    "        #patch.set_alpha(0.4)\n",
    "        patch.set_edgecolor('black')\n",
    "        patch.set_linewidth(1.8)\n",
    "\n",
    "    for median, color in zip(bplot['medians'], colors):\n",
    "        median.set_color(color)\n",
    "        median.set_linewidth(5)\n",
    "        median.set_alpha(1)\n",
    "\n",
    "    \n",
    "    for mean, color in zip(bplot['means'], colors):\n",
    "        mean.set_color(color)\n",
    "        mean.set_alpha(0.5)\n",
    "        mean.set_linewidth(1.5)\n",
    "\n",
    "    for whisk in bplot['whiskers']:\n",
    "        whisk.set_linewidth(1.8)\n",
    "\n",
    "    for caps in bplot['caps']:\n",
    "        caps.set_linewidth(1.8)\n",
    "\n",
    "def smooth(x,y,nb_point) :\n",
    "    \"\"\"Smooth a (x,y) serie by inserting nb_point with spline interpolation\"\"\"   \n",
    "    x_smooth = np.linspace(np.min(x), np.max(x), nb_point) \n",
    "    y_smooth = make_interp_spline(x, y, k=3)(x_smooth)\n",
    "\n",
    "    return x_smooth, y_smooth"
   ]
  },
  {
   "cell_type": "code",
   "execution_count": 1,
   "id": "54b61b4d-410c-4cd9-afda-cb26e95723dd",
   "metadata": {},
   "outputs": [
    {
     "ename": "NameError",
     "evalue": "name 'pickle' is not defined",
     "output_type": "error",
     "traceback": [
      "\u001b[0;31m---------------------------------------------------------------------------\u001b[0m",
      "\u001b[0;31mNameError\u001b[0m                                 Traceback (most recent call last)",
      "Cell \u001b[0;32mIn[1], line 4\u001b[0m\n\u001b[1;32m      1\u001b[0m \u001b[38;5;66;03m## Importing data and models\u001b[39;00m\n\u001b[1;32m      3\u001b[0m \u001b[38;5;28;01mwith\u001b[39;00m \u001b[38;5;28mopen\u001b[39m(\u001b[38;5;124m'\u001b[39m\u001b[38;5;124m../DATA/Dataframes/df_pseudo.pickle\u001b[39m\u001b[38;5;124m'\u001b[39m, \u001b[38;5;124m'\u001b[39m\u001b[38;5;124mrb\u001b[39m\u001b[38;5;124m'\u001b[39m) \u001b[38;5;28;01mas\u001b[39;00m f:\n\u001b[0;32m----> 4\u001b[0m     merged_data \u001b[38;5;241m=\u001b[39m pickle\u001b[38;5;241m.\u001b[39mload(f)\n\u001b[1;32m      6\u001b[0m \u001b[38;5;28;01mwith\u001b[39;00m \u001b[38;5;28mopen\u001b[39m(\u001b[38;5;124m'\u001b[39m\u001b[38;5;124m../Pseudo_pop/Models/pca_notime.pickle\u001b[39m\u001b[38;5;124m'\u001b[39m, \u001b[38;5;124m'\u001b[39m\u001b[38;5;124mrb\u001b[39m\u001b[38;5;124m'\u001b[39m) \u001b[38;5;28;01mas\u001b[39;00m f:\n\u001b[1;32m      7\u001b[0m     pca1 \u001b[38;5;241m=\u001b[39m pickle\u001b[38;5;241m.\u001b[39mload(f)\n",
      "\u001b[0;31mNameError\u001b[0m: name 'pickle' is not defined"
     ]
    }
   ],
   "source": [
    "## Importing data and models\n",
    "\n",
    "with open('../DATA/Dataframes/df_pseudo.pickle', 'rb') as f:\n",
    "    merged_data = pickle.load(f)\n",
    "\n",
    "with open('../Pseudo_pop/Models/pca_notime.pickle', 'rb') as f:\n",
    "    pca1 = pickle.load(f)\n",
    "\n",
    "with open('../Pseudo_pop/Models/pca_time.pickle', 'rb') as f:\n",
    "    pca2 = pickle.load(f)\n",
    "\n",
    "\n",
    "files = ['M12','M13','M14','M15','M16','M17','M18','M19','M20']\n",
    "\n",
    "with open('../DATA/Dataframes/df_full.pickle', 'rb') as f:\n",
    "    data_full = pickle.load(f)\n",
    "\n",
    "with open('../Pseudo_pop/Models/ridge.pickle', 'rb') as f:\n",
    "    ridge_output = pickle.load(f)"
   ]
  },
  {
   "cell_type": "code",
   "execution_count": 8,
   "id": "9d6bb6e6-d0a7-4d8a-b1c4-4b14fca4b6be",
   "metadata": {},
   "outputs": [],
   "source": [
    "res = ridge_output['Models']\n",
    "reg_scores = ridge_output['Scores']\n",
    "permu = np.array(ridge_output['Permutations']).flatten()\n",
    "m = res[np.argmax(reg_scores)]\n",
    "\n",
    "\n",
    "S = m['Ridge'].coef_.T\n",
    "S_permu = [p.coef_.T for p in permu]"
   ]
  },
  {
   "cell_type": "code",
   "execution_count": 10,
   "id": "833ad24e-1628-4352-a908-a938e5f83293",
   "metadata": {},
   "outputs": [],
   "source": [
    "neuron_per_animal = []\n",
    "for file in files :\n",
    "    neuron_per_animal.append(len(data_full[file]['Spike rate'][0]))\n",
    "\n",
    "def split_mat(M) :\n",
    "    \"\"\"Return selectivity matrix for each animal\"\"\"\n",
    "    M_splitted = []\n",
    "    c=0\n",
    "    for i in range(len(neuron_per_animal)) :\n",
    "        M_splitted.append(M[:,c:c+neuron_per_animal[i]])\n",
    "        c+=neuron_per_animal[i]\n",
    "\n",
    "    return M_splitted\n",
    "\n",
    "pca_s = split_mat(pca1.components_)\n",
    "\n",
    "def compute_angles(S):\n",
    "    \"\"\"Compute angles between regression axes\"\"\"\n",
    "    all_angles = [[[] for _ in range(6)] for _ in range(6)]\n",
    "    for i in range(6) :\n",
    "        all_angles[i][i].append(0)\n",
    "        for j in range(i+1,6) :\n",
    "            all_angles[i][j].append(angle_between(S[i,:],S[j,:]))\n",
    "            all_angles[j][i].append(angle_between(S[i,:],S[j,:]))\n",
    "            \n",
    "    return np.array(all_angles)"
   ]
  },
  {
   "cell_type": "code",
   "execution_count": 11,
   "id": "f8031e36-85a8-4796-8cf6-562e66bde11e",
   "metadata": {},
   "outputs": [],
   "source": [
    "## We project here in each individual data in PCA space and compute angles between regression axes.\n",
    "\n",
    "angles_indiv = []\n",
    "S_split = split_mat(S)\n",
    "for f in range(len(files)):\n",
    "    angles_indiv.append(compute_angles(S_split[f]@pca_s[f].T))\n",
    "\n",
    "angles_indiv = np.squeeze(np.array(angles_indiv))"
   ]
  },
  {
   "cell_type": "code",
   "execution_count": 12,
   "id": "500ee96e-0ed0-45c1-afbb-73ccc5ab43ea",
   "metadata": {},
   "outputs": [],
   "source": [
    "## Performing the same analysis with permuted models to obtain a null-distribution\n",
    "\n",
    "angles_permu = []\n",
    "for sp in S_permu :\n",
    "    sp_splitted = split_mat(sp)\n",
    "    for f in range(len(files)):\n",
    "        angles_permu.append(compute_angles(sp_splitted[f]@pca_s[f].T))\n",
    "\n",
    "angles_permu = np.squeeze(np.array(angles_permu))"
   ]
  },
  {
   "cell_type": "code",
   "execution_count": 13,
   "id": "ddc76e6f-4fd4-4e8b-ac23-ee56eebbd97b",
   "metadata": {},
   "outputs": [],
   "source": [
    "GNG_intra = list(angles_indiv[:,0,1])\n",
    "LR_intra = list(angles_indiv[:,2,3])\n",
    "\n",
    "GNG_intra_permu = list(angles_permu[:,0,1])\n",
    "LR_intra_permu = list(angles_permu[:,2,3])\n",
    "\n",
    "category_cross = list(angles_indiv[:,0,2])\n",
    "choice_cross = list(angles_indiv[:,1,3])\n",
    "\n",
    "category_cross_permu = list(angles_permu[:,0,2])\n",
    "choice_cross_permu = list(angles_permu[:,1,3])\n",
    "\n",
    "angles_to_plot = [GNG_intra, LR_intra, category_cross, choice_cross]\n",
    "random_angles = [GNG_intra_permu, LR_intra_permu, category_cross_permu, choice_cross_permu]"
   ]
  },
  {
   "cell_type": "code",
   "execution_count": 15,
   "id": "78f0df69-e352-4370-ad54-8c2d883e669f",
   "metadata": {},
   "outputs": [
    {
     "name": "stdout",
     "output_type": "stream",
     "text": [
      "MannwhitneyuResult(statistic=113055.0, pvalue=0.010869658164972694)\n",
      "MannwhitneyuResult(statistic=113669.0, pvalue=0.011329417681431569)\n",
      "MannwhitneyuResult(statistic=46.0, pvalue=0.6588432549492806)\n",
      "---------\n",
      "MannwhitneyuResult(statistic=100424.0, pvalue=0.004409816568704753)\n",
      "MannwhitneyuResult(statistic=110212.0, pvalue=0.008946250078008266)\n",
      "MannwhitneyuResult(statistic=49.0, pvalue=0.47992869214595724)\n"
     ]
    }
   ],
   "source": [
    "print(mannwhitneyu(random_angles[0],angles_to_plot[0],method='asymptotic',alternative='less'))\n",
    "print(mannwhitneyu(random_angles[1],angles_to_plot[1],method='asymptotic',alternative='less'))\n",
    "print(mannwhitneyu(angles_to_plot[0],angles_to_plot[1],method='asymptotic'))\n",
    "print('---------')\n",
    "print(mannwhitneyu(random_angles[2],angles_to_plot[2],method='asymptotic',alternative='less'))\n",
    "print(mannwhitneyu(random_angles[3],angles_to_plot[3],method='asymptotic',alternative='less'))\n",
    "print(mannwhitneyu(angles_to_plot[2],angles_to_plot[3],method='asymptotic'))"
   ]
  },
  {
   "cell_type": "markdown",
   "id": "dafcc697-e43b-4cac-9197-1df1be10cba3",
   "metadata": {},
   "source": [
    "### Boxplots"
   ]
  },
  {
   "cell_type": "code",
   "execution_count": 129,
   "id": "ba3e571f-0f12-4657-9855-671f3be4eb28",
   "metadata": {},
   "outputs": [
    {
     "data": {
      "image/png": "[encoded data removed]",
      "text/plain": [
       "<Figure size 1000x2000 with 2 Axes>"
      ]
     },
     "metadata": {},
     "output_type": "display_data"
    }
   ],
   "source": [
    "tick_labels = ['Category GNG \\nChoice GNG', 'Category LR \\nChoice LR','Category GNG \\nCategory LR', 'Choice GNG \\nChoice LR']\n",
    "\n",
    "fig,axs = plt.subplots(2,1,figsize=(10,20))\n",
    "fig.subplots_adjust(hspace=1)\n",
    "\n",
    "axs[0].set_ylim(0,91)\n",
    "axs[1].set_ylim(0,91)\n",
    "\n",
    "axs[0].set_xlim(-0.2,1.2)\n",
    "axs[1].set_xlim(-0.2,1.2)\n",
    "\n",
    "\n",
    "axs[0].set_yticks([0,30,60,90],['0°','30°','60°','90°'],fontsize=28)\n",
    "axs[1].set_yticks([0,30,60,90],['0°','30°','60°','90°'],fontsize=28)\n",
    "\n",
    "axs[0].set_ylabel('Angle (°)',fontsize=28)\n",
    "axs[1].set_ylabel('Angle (°)',fontsize=28)\n",
    "\n",
    "plot1 = [random_angles[0],angles_to_plot[0],random_angles[1],angles_to_plot[1]]\n",
    "plot2 = [random_angles[2],angles_to_plot[2],random_angles[3],angles_to_plot[3]]\n",
    "\n",
    "bplot1=axs[0].boxplot(plot1,positions=[0,0.25,0.75,1],patch_artist=True,bootstrap=1000,sym='',widths=.15)\n",
    "\n",
    "axs[0].scatter(x=[0.25]*len(files),y=angles_to_plot[0],color='#3EB483',alpha=.65,s=120)\n",
    "axs[0].scatter(x=[1]*len(files),y=angles_to_plot[2],color='#9E89DD',alpha=.65,s=120)\n",
    "\n",
    "bplot2=axs[1].boxplot(plot2,positions=[0,0.25,0.75,1],patch_artist=True,bootstrap=1000,sym='',widths=.15)\n",
    "\n",
    "axs[1].scatter(x=[0.25]*len(files),y=angles_to_plot[2],color='#FF7F00',alpha=.65,s=120)\n",
    "axs[1].scatter(x=[1]*len(files),y=angles_to_plot[3],color='#FFC000',alpha=.65,s=120)\n",
    "\n",
    "#axs[0].set_xticks([0,0.25,0.75,1],['Permuted','True','Permuted','True'],fontsize=24)\n",
    "#axs[1].set_xticks([0,0.25,0.75,1],['Permuted','True','Permuted','True'],fontsize=24)\n",
    "\n",
    "axs[0].set_xticks([])\n",
    "axs[1].set_xticks([])\n",
    "\n",
    "colors_intra=[('#AAAAAA', 0.4),('#3EB483', 0.4),('#AAAAAA', 0.4),('#9E89DD', 0.4)]\n",
    "colors_inter=[('#AAAAAA', 0.4),('#FF7F00', 0.4),('#AAAAAA', 0.4),('#FFC000', 0.4)]\n",
    "\n",
    "set_color(bplot1,colors_intra)\n",
    "set_color(bplot2,colors_inter)\n",
    "\n",
    "\n",
    "plt.savefig('Plots/SVG/reg_angles.SVG', dpi = 300,bbox_inches='tight')\n",
    "plt.savefig('Plots/PNG/reg_angles.PNG', dpi = 300,bbox_inches='tight')"
   ]
  },
  {
   "cell_type": "markdown",
   "id": "436f53ae-0418-4652-acbf-f23ffd5a2da9",
   "metadata": {},
   "source": [
    "## Regression on individual data"
   ]
  },
  {
   "cell_type": "code",
   "execution_count": 349,
   "id": "b5d83a40-4dd8-4861-92b9-af4ca527a4dd",
   "metadata": {},
   "outputs": [],
   "source": [
    "from sklearn.linear_model import LinearRegression, Ridge, Lasso\n",
    "from sklearn.model_selection import KFold, GridSearchCV, RepeatedKFold, cross_validate\n",
    "from sklearn.pipeline import Pipeline\n",
    "from sklearn.preprocessing import StandardScaler\n",
    "\n",
    "# Parameter grid for regularization\n",
    "alphas = [(10**(-5))*np.exp(k/5) for k in range(1,100)]\n",
    "\n",
    "def compute_R2_stats(alpha,X,Y,permutation,nb_fold) :\n",
    "    pipe = Pipeline([('scaler',  StandardScaler()),('Ridge', Ridge(alpha=alpha,fit_intercept=True))])\n",
    "        \n",
    "    kf_permu = KFold(n_splits = nb_fold, shuffle = True, random_state = 42)\n",
    "    \n",
    "    output = cross_validate(pipe,X,Y,cv=kf_permu,error_score=0, return_estimator=True)\n",
    "    scores = output['test_score']\n",
    "    m = output['estimator'][np.argmax(scores)]\n",
    "    y_pred = m.predict(X)\n",
    "    MSE = np.mean((Y-y_pred)**2, axis = 0)\n",
    "    R2 = 1-MSE    #Y variance is set to 1 after Z-scoring\n",
    "    \n",
    "    X_shuffle = X[permutation,:]\n",
    "    \n",
    "    output = cross_validate(pipe,X_shuffle,Y,cv=kf_permu,error_score=0, return_estimator=True)\n",
    "    scores = output['test_score']\n",
    "    m_shuffle = output['estimator'][np.argmax(scores)]\n",
    "    y_pred_shuffle = m_shuffle.predict(X_shuffle)\n",
    "    MSE_shuffle = np.mean((Y-y_pred_shuffle)**2, axis = 0)\n",
    "    R2_shuffle = 1-MSE_shuffle\n",
    "    \n",
    "    cv_R2 = []\n",
    "    delta_R2 = []\n",
    "    \n",
    "    for i in range(np.shape(X)[1]) :\n",
    "        X_cv = np.copy(X)\n",
    "        X_cv[:,:i] = X_cv[permutation,:i]\n",
    "        X_cv[:,i+1:] = X_cv[permutation,i+1:]\n",
    "\n",
    "        output = cross_validate(pipe,X_cv,Y,cv=kf_permu,error_score=0, return_estimator=True)\n",
    "        scores = output['test_score']\n",
    "        \n",
    "        m_cv = output['estimator'][np.argmax(scores)]\n",
    "        y_pred_cv = m_cv.predict(X_cv)   \n",
    "        MSE_cv = np.mean((Y-y_pred_cv)**2, axis = 0)\n",
    "        R2_cv = 1-MSE_cv\n",
    "        cv_R2.append(R2_cv - R2_shuffle)\n",
    "        \n",
    "        X_delta = np.copy(X)\n",
    "        X_delta[:,i] = X_delta[permutation,i]\n",
    "        \n",
    "        output = cross_validate(pipe,X_delta,Y,cv=kf_permu,error_score=0,return_estimator = True)\n",
    "        scores = output['test_score']\n",
    "        \n",
    "        m_delta = output['estimator'][np.argmax(scores)]\n",
    "        y_pred_delta = m_delta.predict(X_delta)\n",
    "        MSE_delta = np.mean((Y-y_pred_delta)**2, axis = 0)\n",
    "        R2_delta = 1-MSE_delta\n",
    "        delta_R2.append(R2 - R2_delta)\n",
    "        \n",
    "    return np.array(cv_R2),np.array(delta_R2)\n",
    "\n",
    "\n",
    "def get_best_alpha(X,Y,nb_fold=5, return_grid = False) : \n",
    "    pipe = Pipeline([('scaler',  StandardScaler()),('Ridge', Ridge(fit_intercept=True))])    \n",
    "    \n",
    "    kf = RepeatedKFold(n_splits = nb_fold,n_repeats = 10)\n",
    "    \n",
    "\n",
    "    parameters = {'Ridge__alpha' : alphas}\n",
    "    \n",
    "    clf = GridSearchCV(pipe, param_grid = parameters, scoring = 'r2', cv = kf)\n",
    "\n",
    "    clf.fit(X,Y)\n",
    "    \n",
    "    best_alpha = clf.best_params_['Ridge__alpha']\n",
    "    \n",
    "    if return_grid :\n",
    "        return clf, best_alpha\n",
    "    else :\n",
    "        return best_alpha\n",
    "    \n",
    "    \n",
    "def compute_regression(X, Y, alpha = None, nb_fold = 5,nb_repeat=10, nb_permu = 0, stats = False, return_permu_models = False) :\n",
    "    \n",
    "    if alpha == None :\n",
    "        best_alpha = get_best_alpha(X,Y,nb_fold=nb_fold)\n",
    "    \n",
    "    else :\n",
    "        best_alpha = alpha\n",
    "    \n",
    "\n",
    "    pipe = Pipeline([('scaler',  StandardScaler()),('Ridge', Ridge(alpha=best_alpha,fit_intercept=True))])\n",
    "    \n",
    "    rkf = RepeatedKFold(n_splits = nb_fold, n_repeats = nb_repeat)\n",
    "    output = cross_validate(pipe,X,Y,cv=rkf,error_score=0, return_estimator=True)\n",
    "    models = output['estimator']\n",
    "    scores = output['test_score']\n",
    "        \n",
    "    if nb_permu > 0 :\n",
    "        N = np.shape(X)[0]\n",
    "        \n",
    "        delta_R2s = []\n",
    "        cv_R2s = []\n",
    "        permu_models = []\n",
    "        for p in tqdm(range(nb_permu),leave=False) :\n",
    "            \n",
    "            permutation = np.random.permutation(N)\n",
    "            \n",
    "            if stats :\n",
    "                cv_R2, delta_R2 = compute_R2_stats(best_alpha,X,Y,permutation,nb_fold)\n",
    "                delta_R2s.append(delta_R2)\n",
    "                cv_R2s.append(cv_R2)\n",
    "            \n",
    "            if return_permu_models :\n",
    "                permutation = np.random.permutation(N)\n",
    "                X_shuffle = X[permutation,:]\n",
    "        \n",
    "                pipe = Pipeline([('scaler',  StandardScaler()),('Ridge', Ridge(alpha=best_alpha,fit_intercept=True))])\n",
    "                    \n",
    "                kf_permu = KFold(n_splits = nb_fold, shuffle=True)\n",
    "                output = cross_validate(pipe,X_shuffle,Y,cv=kf_permu,error_score=0, return_estimator=True)\n",
    "                scores = output['test_score']\n",
    "                ms_permu = output['estimator']\n",
    "                permu_models.append([ms_permu[k]['Ridge'] for k in range(nb_fold)])\n",
    "        \n",
    "        \n",
    "        if stats&return_permu_models :\n",
    "            return models,scores, permu_models, np.array(delta_R2s), np.array(cv_R2s)\n",
    "        \n",
    "        if stats : \n",
    "            return models,scores, np.array(delta_R2s), np.array(cv_R2s)\n",
    "        \n",
    "        if return_permu_models :\n",
    "            return models,scores, permu_models\n",
    "        \n",
    "\n",
    "    return models,scores"
   ]
  },
  {
   "cell_type": "code",
   "execution_count": 430,
   "id": "a1061c0b-e366-437a-8a89-cdd80fe0b2e8",
   "metadata": {},
   "outputs": [],
   "source": [
    "neuron_per_animal = []\n",
    "for file in files :\n",
    "    neuron_per_animal.append(len(data_full[file]['Spike rate'][0]))\n",
    "\n",
    "def split_mat(M) :\n",
    "    # Return selectivity matrix for each animal\n",
    "    M_splitted = []\n",
    "    c=0\n",
    "    for i in range(len(neuron_per_animal)) :\n",
    "        M_splitted.append(M[:,c:c+neuron_per_animal[i]])\n",
    "        c+=neuron_per_animal[i]\n",
    "\n",
    "    return M_splitted\n",
    "\n",
    "pca1_s = split_mat(pca1.components_)\n",
    "pca2_s = split_mat(pca2.components_)\n",
    "\n",
    "def compute_angles(S):\n",
    "    all_angles = [[[] for _ in range(6)] for _ in range(6)]\n",
    "    for i in range(6) :\n",
    "        all_angles[i][i].append(0)\n",
    "        for j in range(i+1,6) :\n",
    "            all_angles[i][j].append(angle_between(S[i,:],S[j,:]))\n",
    "            all_angles[j][i].append(angle_between(S[i,:],S[j,:]))\n",
    "            \n",
    "    return np.array(all_angles)\n",
    "\n",
    "\n",
    "def produce_X(d) : \n",
    "    d['Motor action'] = (d['Choice'] != 0)\n",
    "    d['Reward'] = np.nan_to_num(d['Reward'])\n",
    "    \n",
    "    regressor_labels = ['Category','Choice','Motor action','Reward','Context','Category G/NG','Choice G/NG', 'Category L/R','Choice L/R','Motor action L/R']\n",
    "    \n",
    "    simple_regressor = d[['Category ID', 'Choice','Motor action','Context','Reward']].to_numpy()\n",
    "    simple_regressor = standardize(simple_regressor)\n",
    "    interactions = pd.concat((simple_regressor[:,0]*(d['Context'] == 0), simple_regressor[:,1]*(d['Context'] == 0),\\\n",
    "                              simple_regressor[:,0]*(d['Context'] == 1), simple_regressor[:,1]*(d['Context'] == 1), simple_regressor[:,2]*(d['Context'] == 1)),axis=1)\n",
    "    \n",
    "    interactions = interactions.to_numpy()\n",
    "    \n",
    "    X = np.concatenate((interactions,simple_regressor[:,3:]),axis=1)\n",
    "    \n",
    "    X = standardize(X)\n",
    "\n",
    "    return X\n",
    "    "
   ]
  },
  {
   "cell_type": "code",
   "execution_count": 456,
   "id": "83b3cc86-c9d3-40a2-a4da-3ca3d2a01793",
   "metadata": {},
   "outputs": [
    {
     "data": {
      "application/vnd.jupyter.widget-view+json": {
       "model_id": "",
       "version_major": 2,
       "version_minor": 0
      },
      "text/plain": [
       "  0%|          | 0/10 [00:00<?, ?it/s]"
      ]
     },
     "metadata": {},
     "output_type": "display_data"
    },
    {
     "data": {
      "application/vnd.jupyter.widget-view+json": {
       "model_id": "",
       "version_major": 2,
       "version_minor": 0
      },
      "text/plain": [
       "  0%|          | 0/10 [00:00<?, ?it/s]"
      ]
     },
     "metadata": {},
     "output_type": "display_data"
    },
    {
     "data": {
      "application/vnd.jupyter.widget-view+json": {
       "model_id": "",
       "version_major": 2,
       "version_minor": 0
      },
      "text/plain": [
       "  0%|          | 0/10 [00:00<?, ?it/s]"
      ]
     },
     "metadata": {},
     "output_type": "display_data"
    },
    {
     "data": {
      "application/vnd.jupyter.widget-view+json": {
       "model_id": "",
       "version_major": 2,
       "version_minor": 0
      },
      "text/plain": [
       "  0%|          | 0/10 [00:00<?, ?it/s]"
      ]
     },
     "metadata": {},
     "output_type": "display_data"
    },
    {
     "data": {
      "application/vnd.jupyter.widget-view+json": {
       "model_id": "",
       "version_major": 2,
       "version_minor": 0
      },
      "text/plain": [
       "  0%|          | 0/10 [00:00<?, ?it/s]"
      ]
     },
     "metadata": {},
     "output_type": "display_data"
    },
    {
     "data": {
      "application/vnd.jupyter.widget-view+json": {
       "model_id": "",
       "version_major": 2,
       "version_minor": 0
      },
      "text/plain": [
       "  0%|          | 0/10 [00:00<?, ?it/s]"
      ]
     },
     "metadata": {},
     "output_type": "display_data"
    },
    {
     "data": {
      "application/vnd.jupyter.widget-view+json": {
       "model_id": "",
       "version_major": 2,
       "version_minor": 0
      },
      "text/plain": [
       "  0%|          | 0/10 [00:00<?, ?it/s]"
      ]
     },
     "metadata": {},
     "output_type": "display_data"
    },
    {
     "data": {
      "application/vnd.jupyter.widget-view+json": {
       "model_id": "",
       "version_major": 2,
       "version_minor": 0
      },
      "text/plain": [
       "  0%|          | 0/10 [00:00<?, ?it/s]"
      ]
     },
     "metadata": {},
     "output_type": "display_data"
    },
    {
     "data": {
      "application/vnd.jupyter.widget-view+json": {
       "model_id": "",
       "version_major": 2,
       "version_minor": 0
      },
      "text/plain": [
       "  0%|          | 0/10 [00:00<?, ?it/s]"
      ]
     },
     "metadata": {},
     "output_type": "display_data"
    }
   ],
   "source": [
    "cvR2_all = []\n",
    "deltaR2_all = []\n",
    "reg_all = []\n",
    "scores_all = []\n",
    "permu_all = []\n",
    "for f in range(len(files)) :\n",
    "    d = data_full[files[f]]\n",
    "    \n",
    "    pca1_i = pca1_s[f]\n",
    "    \n",
    "\n",
    "    X = produce_X(d)\n",
    "\n",
    "    M = np.stack(d['Spike rate'])\n",
    "    M = standardize(M)\n",
    "    M = np.dot(M, pca1_i.T)\n",
    "    \n",
    "    inverse_transform = True\n",
    "    if inverse_transform :\n",
    "        Y = standardize(np.dot(M, pca1_i))\n",
    "    else :\n",
    "        Y = standardize(M)\n",
    "\n",
    "    reg, scores, permu_reg, deltaR2, cvR2  = compute_regression(X,Y, nb_fold = 5, nb_permu = 10, stats = True, return_permu_models=True)\n",
    "\n",
    "\n",
    "    cvR2_all.append(cvR2)\n",
    "    deltaR2_all.append(deltaR2)\n",
    "    reg_all.append(reg)\n",
    "    scores_all.append(scores)\n",
    "    permu_all.append(permu_reg)\n",
    "\n",
    "\n",
    "\n",
    "cvR2_all = np.concatenate(cvR2_all,axis=2)\n",
    "deltaR2_all = np.concatenate(deltaR2_all,axis=2)\n",
    "\n",
    "\n",
    "permu_all = np.array(permu_all)\n",
    "permu_all = np.resize(permu_all, (np.shape(permu_all)[0],np.shape(permu_all)[1]*np.shape(permu_all)[2]))"
   ]
  },
  {
   "cell_type": "code",
   "execution_count": 426,
   "id": "2befee8e-a348-4b76-a9fa-9607ed4f4db3",
   "metadata": {},
   "outputs": [
    {
     "data": {
      "text/plain": [
       "\"\\nplt.savefig('Plots/PNG/Var_cvR2.PNG', dpi = 300,bbox_inches='tight')\\nplt.savefig('Plots/SVG/Var_cvR2.SVG', dpi = 300,bbox_inches='tight')\\n\""
      ]
     },
     "execution_count": 426,
     "metadata": {},
     "output_type": "execute_result"
    },
    {
     "data": {
      "image/png": "[encoded data removed]",
      "text/plain": [
       "<Figure size 1000x600 with 1 Axes>"
      ]
     },
     "metadata": {},
     "output_type": "display_data"
    }
   ],
   "source": [
    "plt.figure(figsize=(10,6))\n",
    "\n",
    "\n",
    "ax = plt.gca()\n",
    "\n",
    "plot_labels = ['Category G/NG','Choice G/NG','Category L/R','Choice L/R','Lick L/R','Task']\n",
    "\n",
    "df_label = []\n",
    "for i in range(len(plot_labels)) :\n",
    "    df_label += [plot_labels[i]]*np.shape(cvR2_all)[2]\n",
    "\n",
    "['Category G/NG','Choice G/NG','Category L/R','Choice L/R','Lick L/R','Task']\n",
    "\n",
    "#df_var = pd.DataFrame({'Variance':np.mean((cvR2_all[:,:-1,:]+deltaR2_all[:,:-1,:])/2,axis=0).reshape(-1),'Regressor':df_label})\n",
    "df_var = pd.DataFrame({'Variance':np.mean(deltaR2_all[:,:-1,:],axis=0).reshape(-1),'Regressor':df_label})\n",
    "colors_plot=['#FF7F00','#FFC000','#FF7F00','#FFC000','#FB4D3D','#6510CE']\n",
    "\n",
    "sns.violinplot(data = df_var,x='Variance',y='Regressor',alpha=0.65,ax=ax,palette=colors_plot,inner_kws={'box_width':7, 'whis_width':3},width=0.8,cut=0)\n",
    "\n",
    "\n",
    "plt.yticks([0,1,2,3,4,5],plot_labels)\n",
    "\n",
    "plt.xlabel('Variance explained (%)')\n",
    "plt.xlim(0,0.8)\n",
    "#plt.xticks([0,0.2,0.4,0.6,0.8,1],['0','20%','40%','60%','80%','100%'])\n",
    "plt.xticks([0,0.1,0.2,0.3,0.4,0.5,0.6,0.7,0.8],['0','10%','20%','30%','40%','50%','60%','70%','80%'])\n",
    "\n",
    "\n",
    "\"\"\"\n",
    "plt.savefig('Plots/PNG/Var_cvR2.PNG', dpi = 300,bbox_inches='tight')\n",
    "plt.savefig('Plots/SVG/Var_cvR2.SVG', dpi = 300,bbox_inches='tight')\n",
    "\"\"\""
   ]
  },
  {
   "cell_type": "markdown",
   "id": "ee176b74-80af-4529-8616-1af6e593b7de",
   "metadata": {},
   "source": [
    "#### Angles on individual regressions"
   ]
  },
  {
   "cell_type": "code",
   "execution_count": 458,
   "id": "e731a748-ae65-445f-af20-17513514671f",
   "metadata": {},
   "outputs": [],
   "source": [
    "S_all = []\n",
    "\n",
    "for f in range(len(files)) :\n",
    "    reg_i = reg_all[f]\n",
    "    scores_i = scores_all[f]\n",
    "    m_i = reg_i[np.argmax(scores_i)]\n",
    "    S_all.append(m_i['Ridge'].coef_.T)"
   ]
  },
  {
   "cell_type": "code",
   "execution_count": 460,
   "id": "804e7866-f4e2-4751-989b-74c9582cbe8d",
   "metadata": {},
   "outputs": [],
   "source": [
    "angles_indiv = []\n",
    "for f in range(len(files)):\n",
    "    angles_indiv.append(compute_angles(S_all[f]@pca1_s[f].T))\n",
    "\n",
    "angles_indiv = np.squeeze(np.array(angles_indiv))"
   ]
  },
  {
   "cell_type": "code",
   "execution_count": 462,
   "id": "f8267ade-d0e7-4afe-8f75-45953ab94352",
   "metadata": {},
   "outputs": [],
   "source": [
    "S_permu_all = [[permu_all[f,p].coef_.T for p in range(np.shape(permu_all)[1])] for f in range(len(files))]\n",
    "\n",
    "angles_permu = []\n",
    "for f in range(len(files)) :\n",
    "    sp_i = S_permu_all[f]\n",
    "    for sp in sp_i:\n",
    "        angles_permu.append(compute_angles(sp@pca1_s[f].T))\n",
    "\n",
    "angles_permu = np.squeeze(np.array(angles_permu))"
   ]
  },
  {
   "cell_type": "markdown",
   "id": "b2e8c6c2-1cd8-4eb4-a434-3300d946148a",
   "metadata": {},
   "source": [
    "### Across time"
   ]
  },
  {
   "cell_type": "code",
   "execution_count": 432,
   "id": "42e36ca7-6329-4e0c-bff6-f8a68ef50970",
   "metadata": {
    "scrolled": true
   },
   "outputs": [
    {
     "data": {
      "application/vnd.jupyter.widget-view+json": {
       "model_id": "7e14d33f295e436080f4116291a8378a",
       "version_major": 2,
       "version_minor": 0
      },
      "text/plain": [
       "  0%|          | 0/18 [00:00<?, ?it/s]"
      ]
     },
     "metadata": {},
     "output_type": "display_data"
    },
    {
     "data": {
      "application/vnd.jupyter.widget-view+json": {
       "model_id": "",
       "version_major": 2,
       "version_minor": 0
      },
      "text/plain": [
       "  0%|          | 0/20 [00:00<?, ?it/s]"
      ]
     },
     "metadata": {},
     "output_type": "display_data"
    },
    {
     "data": {
      "application/vnd.jupyter.widget-view+json": {
       "model_id": "",
       "version_major": 2,
       "version_minor": 0
      },
      "text/plain": [
       "  0%|          | 0/20 [00:00<?, ?it/s]"
      ]
     },
     "metadata": {},
     "output_type": "display_data"
    },
    {
     "data": {
      "application/vnd.jupyter.widget-view+json": {
       "model_id": "",
       "version_major": 2,
       "version_minor": 0
      },
      "text/plain": [
       "  0%|          | 0/20 [00:00<?, ?it/s]"
      ]
     },
     "metadata": {},
     "output_type": "display_data"
    },
    {
     "data": {
      "application/vnd.jupyter.widget-view+json": {
       "model_id": "",
       "version_major": 2,
       "version_minor": 0
      },
      "text/plain": [
       "  0%|          | 0/20 [00:00<?, ?it/s]"
      ]
     },
     "metadata": {},
     "output_type": "display_data"
    },
    {
     "data": {
      "application/vnd.jupyter.widget-view+json": {
       "model_id": "",
       "version_major": 2,
       "version_minor": 0
      },
      "text/plain": [
       "  0%|          | 0/20 [00:00<?, ?it/s]"
      ]
     },
     "metadata": {},
     "output_type": "display_data"
    },
    {
     "data": {
      "application/vnd.jupyter.widget-view+json": {
       "model_id": "",
       "version_major": 2,
       "version_minor": 0
      },
      "text/plain": [
       "  0%|          | 0/20 [00:00<?, ?it/s]"
      ]
     },
     "metadata": {},
     "output_type": "display_data"
    },
    {
     "data": {
      "application/vnd.jupyter.widget-view+json": {
       "model_id": "",
       "version_major": 2,
       "version_minor": 0
      },
      "text/plain": [
       "  0%|          | 0/20 [00:00<?, ?it/s]"
      ]
     },
     "metadata": {},
     "output_type": "display_data"
    },
    {
     "data": {
      "application/vnd.jupyter.widget-view+json": {
       "model_id": "",
       "version_major": 2,
       "version_minor": 0
      },
      "text/plain": [
       "  0%|          | 0/20 [00:00<?, ?it/s]"
      ]
     },
     "metadata": {},
     "output_type": "display_data"
    },
    {
     "data": {
      "application/vnd.jupyter.widget-view+json": {
       "model_id": "",
       "version_major": 2,
       "version_minor": 0
      },
      "text/plain": [
       "  0%|          | 0/20 [00:00<?, ?it/s]"
      ]
     },
     "metadata": {},
     "output_type": "display_data"
    },
    {
     "data": {
      "application/vnd.jupyter.widget-view+json": {
       "model_id": "",
       "version_major": 2,
       "version_minor": 0
      },
      "text/plain": [
       "  0%|          | 0/20 [00:00<?, ?it/s]"
      ]
     },
     "metadata": {},
     "output_type": "display_data"
    },
    {
     "data": {
      "application/vnd.jupyter.widget-view+json": {
       "model_id": "",
       "version_major": 2,
       "version_minor": 0
      },
      "text/plain": [
       "  0%|          | 0/20 [00:00<?, ?it/s]"
      ]
     },
     "metadata": {},
     "output_type": "display_data"
    },
    {
     "data": {
      "application/vnd.jupyter.widget-view+json": {
       "model_id": "",
       "version_major": 2,
       "version_minor": 0
      },
      "text/plain": [
       "  0%|          | 0/20 [00:00<?, ?it/s]"
      ]
     },
     "metadata": {},
     "output_type": "display_data"
    },
    {
     "data": {
      "application/vnd.jupyter.widget-view+json": {
       "model_id": "",
       "version_major": 2,
       "version_minor": 0
      },
      "text/plain": [
       "  0%|          | 0/20 [00:00<?, ?it/s]"
      ]
     },
     "metadata": {},
     "output_type": "display_data"
    },
    {
     "data": {
      "application/vnd.jupyter.widget-view+json": {
       "model_id": "",
       "version_major": 2,
       "version_minor": 0
      },
      "text/plain": [
       "  0%|          | 0/20 [00:00<?, ?it/s]"
      ]
     },
     "metadata": {},
     "output_type": "display_data"
    },
    {
     "data": {
      "application/vnd.jupyter.widget-view+json": {
       "model_id": "",
       "version_major": 2,
       "version_minor": 0
      },
      "text/plain": [
       "  0%|          | 0/20 [00:00<?, ?it/s]"
      ]
     },
     "metadata": {},
     "output_type": "display_data"
    },
    {
     "data": {
      "application/vnd.jupyter.widget-view+json": {
       "model_id": "",
       "version_major": 2,
       "version_minor": 0
      },
      "text/plain": [
       "  0%|          | 0/20 [00:00<?, ?it/s]"
      ]
     },
     "metadata": {},
     "output_type": "display_data"
    },
    {
     "data": {
      "application/vnd.jupyter.widget-view+json": {
       "model_id": "",
       "version_major": 2,
       "version_minor": 0
      },
      "text/plain": [
       "  0%|          | 0/20 [00:00<?, ?it/s]"
      ]
     },
     "metadata": {},
     "output_type": "display_data"
    },
    {
     "data": {
      "application/vnd.jupyter.widget-view+json": {
       "model_id": "",
       "version_major": 2,
       "version_minor": 0
      },
      "text/plain": [
       "  0%|          | 0/20 [00:00<?, ?it/s]"
      ]
     },
     "metadata": {},
     "output_type": "display_data"
    },
    {
     "data": {
      "application/vnd.jupyter.widget-view+json": {
       "model_id": "ef1b24d63f9245269b7ce73bfcb8fb9e",
       "version_major": 2,
       "version_minor": 0
      },
      "text/plain": [
       "  0%|          | 0/18 [00:00<?, ?it/s]"
      ]
     },
     "metadata": {},
     "output_type": "display_data"
    },
    {
     "data": {
      "application/vnd.jupyter.widget-view+json": {
       "model_id": "",
       "version_major": 2,
       "version_minor": 0
      },
      "text/plain": [
       "  0%|          | 0/20 [00:00<?, ?it/s]"
      ]
     },
     "metadata": {},
     "output_type": "display_data"
    },
    {
     "data": {
      "application/vnd.jupyter.widget-view+json": {
       "model_id": "",
       "version_major": 2,
       "version_minor": 0
      },
      "text/plain": [
       "  0%|          | 0/20 [00:00<?, ?it/s]"
      ]
     },
     "metadata": {},
     "output_type": "display_data"
    },
    {
     "data": {
      "application/vnd.jupyter.widget-view+json": {
       "model_id": "",
       "version_major": 2,
       "version_minor": 0
      },
      "text/plain": [
       "  0%|          | 0/20 [00:00<?, ?it/s]"
      ]
     },
     "metadata": {},
     "output_type": "display_data"
    },
    {
     "data": {
      "application/vnd.jupyter.widget-view+json": {
       "model_id": "",
       "version_major": 2,
       "version_minor": 0
      },
      "text/plain": [
       "  0%|          | 0/20 [00:00<?, ?it/s]"
      ]
     },
     "metadata": {},
     "output_type": "display_data"
    },
    {
     "data": {
      "application/vnd.jupyter.widget-view+json": {
       "model_id": "",
       "version_major": 2,
       "version_minor": 0
      },
      "text/plain": [
       "  0%|          | 0/20 [00:00<?, ?it/s]"
      ]
     },
     "metadata": {},
     "output_type": "display_data"
    },
    {
     "data": {
      "application/vnd.jupyter.widget-view+json": {
       "model_id": "",
       "version_major": 2,
       "version_minor": 0
      },
      "text/plain": [
       "  0%|          | 0/20 [00:00<?, ?it/s]"
      ]
     },
     "metadata": {},
     "output_type": "display_data"
    },
    {
     "data": {
      "application/vnd.jupyter.widget-view+json": {
       "model_id": "",
       "version_major": 2,
       "version_minor": 0
      },
      "text/plain": [
       "  0%|          | 0/20 [00:00<?, ?it/s]"
      ]
     },
     "metadata": {},
     "output_type": "display_data"
    },
    {
     "data": {
      "application/vnd.jupyter.widget-view+json": {
       "model_id": "",
       "version_major": 2,
       "version_minor": 0
      },
      "text/plain": [
       "  0%|          | 0/20 [00:00<?, ?it/s]"
      ]
     },
     "metadata": {},
     "output_type": "display_data"
    },
    {
     "data": {
      "application/vnd.jupyter.widget-view+json": {
       "model_id": "",
       "version_major": 2,
       "version_minor": 0
      },
      "text/plain": [
       "  0%|          | 0/20 [00:00<?, ?it/s]"
      ]
     },
     "metadata": {},
     "output_type": "display_data"
    },
    {
     "data": {
      "application/vnd.jupyter.widget-view+json": {
       "model_id": "",
       "version_major": 2,
       "version_minor": 0
      },
      "text/plain": [
       "  0%|          | 0/20 [00:00<?, ?it/s]"
      ]
     },
     "metadata": {},
     "output_type": "display_data"
    },
    {
     "data": {
      "application/vnd.jupyter.widget-view+json": {
       "model_id": "",
       "version_major": 2,
       "version_minor": 0
      },
      "text/plain": [
       "  0%|          | 0/20 [00:00<?, ?it/s]"
      ]
     },
     "metadata": {},
     "output_type": "display_data"
    },
    {
     "data": {
      "application/vnd.jupyter.widget-view+json": {
       "model_id": "",
       "version_major": 2,
       "version_minor": 0
      },
      "text/plain": [
       "  0%|          | 0/20 [00:00<?, ?it/s]"
      ]
     },
     "metadata": {},
     "output_type": "display_data"
    },
    {
     "data": {
      "application/vnd.jupyter.widget-view+json": {
       "model_id": "",
       "version_major": 2,
       "version_minor": 0
      },
      "text/plain": [
       "  0%|          | 0/20 [00:00<?, ?it/s]"
      ]
     },
     "metadata": {},
     "output_type": "display_data"
    },
    {
     "data": {
      "application/vnd.jupyter.widget-view+json": {
       "model_id": "",
       "version_major": 2,
       "version_minor": 0
      },
      "text/plain": [
       "  0%|          | 0/20 [00:00<?, ?it/s]"
      ]
     },
     "metadata": {},
     "output_type": "display_data"
    },
    {
     "data": {
      "application/vnd.jupyter.widget-view+json": {
       "model_id": "",
       "version_major": 2,
       "version_minor": 0
      },
      "text/plain": [
       "  0%|          | 0/20 [00:00<?, ?it/s]"
      ]
     },
     "metadata": {},
     "output_type": "display_data"
    },
    {
     "data": {
      "application/vnd.jupyter.widget-view+json": {
       "model_id": "",
       "version_major": 2,
       "version_minor": 0
      },
      "text/plain": [
       "  0%|          | 0/20 [00:00<?, ?it/s]"
      ]
     },
     "metadata": {},
     "output_type": "display_data"
    },
    {
     "data": {
      "application/vnd.jupyter.widget-view+json": {
       "model_id": "",
       "version_major": 2,
       "version_minor": 0
      },
      "text/plain": [
       "  0%|          | 0/20 [00:00<?, ?it/s]"
      ]
     },
     "metadata": {},
     "output_type": "display_data"
    },
    {
     "data": {
      "application/vnd.jupyter.widget-view+json": {
       "model_id": "",
       "version_major": 2,
       "version_minor": 0
      },
      "text/plain": [
       "  0%|          | 0/20 [00:00<?, ?it/s]"
      ]
     },
     "metadata": {},
     "output_type": "display_data"
    },
    {
     "data": {
      "application/vnd.jupyter.widget-view+json": {
       "model_id": "a363dc4134514feabaa3df898e79a993",
       "version_major": 2,
       "version_minor": 0
      },
      "text/plain": [
       "  0%|          | 0/18 [00:00<?, ?it/s]"
      ]
     },
     "metadata": {},
     "output_type": "display_data"
    },
    {
     "data": {
      "application/vnd.jupyter.widget-view+json": {
       "model_id": "",
       "version_major": 2,
       "version_minor": 0
      },
      "text/plain": [
       "  0%|          | 0/20 [00:00<?, ?it/s]"
      ]
     },
     "metadata": {},
     "output_type": "display_data"
    },
    {
     "data": {
      "application/vnd.jupyter.widget-view+json": {
       "model_id": "",
       "version_major": 2,
       "version_minor": 0
      },
      "text/plain": [
       "  0%|          | 0/20 [00:00<?, ?it/s]"
      ]
     },
     "metadata": {},
     "output_type": "display_data"
    },
    {
     "data": {
      "application/vnd.jupyter.widget-view+json": {
       "model_id": "",
       "version_major": 2,
       "version_minor": 0
      },
      "text/plain": [
       "  0%|          | 0/20 [00:00<?, ?it/s]"
      ]
     },
     "metadata": {},
     "output_type": "display_data"
    },
    {
     "data": {
      "application/vnd.jupyter.widget-view+json": {
       "model_id": "",
       "version_major": 2,
       "version_minor": 0
      },
      "text/plain": [
       "  0%|          | 0/20 [00:00<?, ?it/s]"
      ]
     },
     "metadata": {},
     "output_type": "display_data"
    },
    {
     "data": {
      "application/vnd.jupyter.widget-view+json": {
       "model_id": "",
       "version_major": 2,
       "version_minor": 0
      },
      "text/plain": [
       "  0%|          | 0/20 [00:00<?, ?it/s]"
      ]
     },
     "metadata": {},
     "output_type": "display_data"
    },
    {
     "data": {
      "application/vnd.jupyter.widget-view+json": {
       "model_id": "",
       "version_major": 2,
       "version_minor": 0
      },
      "text/plain": [
       "  0%|          | 0/20 [00:00<?, ?it/s]"
      ]
     },
     "metadata": {},
     "output_type": "display_data"
    },
    {
     "data": {
      "application/vnd.jupyter.widget-view+json": {
       "model_id": "",
       "version_major": 2,
       "version_minor": 0
      },
      "text/plain": [
       "  0%|          | 0/20 [00:00<?, ?it/s]"
      ]
     },
     "metadata": {},
     "output_type": "display_data"
    },
    {
     "data": {
      "application/vnd.jupyter.widget-view+json": {
       "model_id": "",
       "version_major": 2,
       "version_minor": 0
      },
      "text/plain": [
       "  0%|          | 0/20 [00:00<?, ?it/s]"
      ]
     },
     "metadata": {},
     "output_type": "display_data"
    },
    {
     "data": {
      "application/vnd.jupyter.widget-view+json": {
       "model_id": "",
       "version_major": 2,
       "version_minor": 0
      },
      "text/plain": [
       "  0%|          | 0/20 [00:00<?, ?it/s]"
      ]
     },
     "metadata": {},
     "output_type": "display_data"
    },
    {
     "data": {
      "application/vnd.jupyter.widget-view+json": {
       "model_id": "",
       "version_major": 2,
       "version_minor": 0
      },
      "text/plain": [
       "  0%|          | 0/20 [00:00<?, ?it/s]"
      ]
     },
     "metadata": {},
     "output_type": "display_data"
    },
    {
     "data": {
      "application/vnd.jupyter.widget-view+json": {
       "model_id": "",
       "version_major": 2,
       "version_minor": 0
      },
      "text/plain": [
       "  0%|          | 0/20 [00:00<?, ?it/s]"
      ]
     },
     "metadata": {},
     "output_type": "display_data"
    },
    {
     "data": {
      "application/vnd.jupyter.widget-view+json": {
       "model_id": "52332aeff15447a0afcbc405847ee54c",
       "version_major": 2,
       "version_minor": 0
      },
      "text/plain": [
       "  0%|          | 0/20 [00:00<?, ?it/s]"
      ]
     },
     "metadata": {},
     "output_type": "display_data"
    },
    {
     "data": {
      "application/vnd.jupyter.widget-view+json": {
       "model_id": "ac3eecfd7f904332b0a5ef6405684a9e",
       "version_major": 2,
       "version_minor": 0
      },
      "text/plain": [
       "  0%|          | 0/20 [00:00<?, ?it/s]"
      ]
     },
     "metadata": {},
     "output_type": "display_data"
    },
    {
     "data": {
      "application/vnd.jupyter.widget-view+json": {
       "model_id": "fa5337c260da4223a667553135572249",
       "version_major": 2,
       "version_minor": 0
      },
      "text/plain": [
       "  0%|          | 0/20 [00:00<?, ?it/s]"
      ]
     },
     "metadata": {},
     "output_type": "display_data"
    },
    {
     "data": {
      "application/vnd.jupyter.widget-view+json": {
       "model_id": "a5ba3cbd05b04b15a0e12e8fa2918274",
       "version_major": 2,
       "version_minor": 0
      },
      "text/plain": [
       "  0%|          | 0/20 [00:00<?, ?it/s]"
      ]
     },
     "metadata": {},
     "output_type": "display_data"
    },
    {
     "data": {
      "application/vnd.jupyter.widget-view+json": {
       "model_id": "6cd8e935685a41d594901ca5cf8ed4b0",
       "version_major": 2,
       "version_minor": 0
      },
      "text/plain": [
       "  0%|          | 0/20 [00:00<?, ?it/s]"
      ]
     },
     "metadata": {},
     "output_type": "display_data"
    },
    {
     "data": {
      "application/vnd.jupyter.widget-view+json": {
       "model_id": "3ad9efcae7744b79b08c80d9babde6bf",
       "version_major": 2,
       "version_minor": 0
      },
      "text/plain": [
       "  0%|          | 0/20 [00:00<?, ?it/s]"
      ]
     },
     "metadata": {},
     "output_type": "display_data"
    },
    {
     "data": {
      "application/vnd.jupyter.widget-view+json": {
       "model_id": "4cba2b63734144f4b4aa33124c4964cb",
       "version_major": 2,
       "version_minor": 0
      },
      "text/plain": [
       "  0%|          | 0/20 [00:00<?, ?it/s]"
      ]
     },
     "metadata": {},
     "output_type": "display_data"
    },
    {
     "data": {
      "application/vnd.jupyter.widget-view+json": {
       "model_id": "d7a4d8cc2e0140d59065d5a0344f341d",
       "version_major": 2,
       "version_minor": 0
      },
      "text/plain": [
       "  0%|          | 0/18 [00:00<?, ?it/s]"
      ]
     },
     "metadata": {},
     "output_type": "display_data"
    },
    {
     "data": {
      "application/vnd.jupyter.widget-view+json": {
       "model_id": "511c5aad50354735b59d76a4a098b9bd",
       "version_major": 2,
       "version_minor": 0
      },
      "text/plain": [
       "  0%|          | 0/20 [00:00<?, ?it/s]"
      ]
     },
     "metadata": {},
     "output_type": "display_data"
    },
    {
     "data": {
      "application/vnd.jupyter.widget-view+json": {
       "model_id": "7cea43960a00436d835dac7932465ebb",
       "version_major": 2,
       "version_minor": 0
      },
      "text/plain": [
       "  0%|          | 0/20 [00:00<?, ?it/s]"
      ]
     },
     "metadata": {},
     "output_type": "display_data"
    },
    {
     "data": {
      "application/vnd.jupyter.widget-view+json": {
       "model_id": "1841e8c11229491eb6626238a7184f92",
       "version_major": 2,
       "version_minor": 0
      },
      "text/plain": [
       "  0%|          | 0/20 [00:00<?, ?it/s]"
      ]
     },
     "metadata": {},
     "output_type": "display_data"
    },
    {
     "data": {
      "application/vnd.jupyter.widget-view+json": {
       "model_id": "45359773170e45fdbfba29c8ade5558e",
       "version_major": 2,
       "version_minor": 0
      },
      "text/plain": [
       "  0%|          | 0/20 [00:00<?, ?it/s]"
      ]
     },
     "metadata": {},
     "output_type": "display_data"
    },
    {
     "data": {
      "application/vnd.jupyter.widget-view+json": {
       "model_id": "3cecd6a33628444dba93e00e4cae5acb",
       "version_major": 2,
       "version_minor": 0
      },
      "text/plain": [
       "  0%|          | 0/20 [00:00<?, ?it/s]"
      ]
     },
     "metadata": {},
     "output_type": "display_data"
    },
    {
     "data": {
      "application/vnd.jupyter.widget-view+json": {
       "model_id": "eea35433428f42149cda69d72aa56720",
       "version_major": 2,
       "version_minor": 0
      },
      "text/plain": [
       "  0%|          | 0/20 [00:00<?, ?it/s]"
      ]
     },
     "metadata": {},
     "output_type": "display_data"
    },
    {
     "data": {
      "application/vnd.jupyter.widget-view+json": {
       "model_id": "87cc3ac5afdc4bb293d178e427679790",
       "version_major": 2,
       "version_minor": 0
      },
      "text/plain": [
       "  0%|          | 0/20 [00:00<?, ?it/s]"
      ]
     },
     "metadata": {},
     "output_type": "display_data"
    },
    {
     "data": {
      "application/vnd.jupyter.widget-view+json": {
       "model_id": "d3a6f092517e4d63af89521740ea624d",
       "version_major": 2,
       "version_minor": 0
      },
      "text/plain": [
       "  0%|          | 0/20 [00:00<?, ?it/s]"
      ]
     },
     "metadata": {},
     "output_type": "display_data"
    },
    {
     "data": {
      "application/vnd.jupyter.widget-view+json": {
       "model_id": "b15dfc39e36d456686068ad49302738c",
       "version_major": 2,
       "version_minor": 0
      },
      "text/plain": [
       "  0%|          | 0/20 [00:00<?, ?it/s]"
      ]
     },
     "metadata": {},
     "output_type": "display_data"
    },
    {
     "data": {
      "application/vnd.jupyter.widget-view+json": {
       "model_id": "0d28166945654c6c9a85a5959041d509",
       "version_major": 2,
       "version_minor": 0
      },
      "text/plain": [
       "  0%|          | 0/20 [00:00<?, ?it/s]"
      ]
     },
     "metadata": {},
     "output_type": "display_data"
    },
    {
     "data": {
      "application/vnd.jupyter.widget-view+json": {
       "model_id": "886321daeafc4f8bb97e009873a1451d",
       "version_major": 2,
       "version_minor": 0
      },
      "text/plain": [
       "  0%|          | 0/20 [00:00<?, ?it/s]"
      ]
     },
     "metadata": {},
     "output_type": "display_data"
    },
    {
     "data": {
      "application/vnd.jupyter.widget-view+json": {
       "model_id": "13249ee4ea3d45b9ab1affa5116de3d9",
       "version_major": 2,
       "version_minor": 0
      },
      "text/plain": [
       "  0%|          | 0/20 [00:00<?, ?it/s]"
      ]
     },
     "metadata": {},
     "output_type": "display_data"
    },
    {
     "data": {
      "application/vnd.jupyter.widget-view+json": {
       "model_id": "25c161bf03a94855b1d6c3fe5df2f271",
       "version_major": 2,
       "version_minor": 0
      },
      "text/plain": [
       "  0%|          | 0/20 [00:00<?, ?it/s]"
      ]
     },
     "metadata": {},
     "output_type": "display_data"
    },
    {
     "data": {
      "application/vnd.jupyter.widget-view+json": {
       "model_id": "d94d01574e4d4c05aaf6d66c71dee9ed",
       "version_major": 2,
       "version_minor": 0
      },
      "text/plain": [
       "  0%|          | 0/20 [00:00<?, ?it/s]"
      ]
     },
     "metadata": {},
     "output_type": "display_data"
    },
    {
     "data": {
      "application/vnd.jupyter.widget-view+json": {
       "model_id": "294b50260ac24f2b801eb1b69ca4c0fe",
       "version_major": 2,
       "version_minor": 0
      },
      "text/plain": [
       "  0%|          | 0/20 [00:00<?, ?it/s]"
      ]
     },
     "metadata": {},
     "output_type": "display_data"
    },
    {
     "data": {
      "application/vnd.jupyter.widget-view+json": {
       "model_id": "f9f3b03649804ff39badbde75e46c7f2",
       "version_major": 2,
       "version_minor": 0
      },
      "text/plain": [
       "  0%|          | 0/20 [00:00<?, ?it/s]"
      ]
     },
     "metadata": {},
     "output_type": "display_data"
    },
    {
     "data": {
      "application/vnd.jupyter.widget-view+json": {
       "model_id": "c9df6cef15634feea5f32f9477ee207f",
       "version_major": 2,
       "version_minor": 0
      },
      "text/plain": [
       "  0%|          | 0/20 [00:00<?, ?it/s]"
      ]
     },
     "metadata": {},
     "output_type": "display_data"
    },
    {
     "data": {
      "application/vnd.jupyter.widget-view+json": {
       "model_id": "060f644b63084d50aa4630707ba1ef82",
       "version_major": 2,
       "version_minor": 0
      },
      "text/plain": [
       "  0%|          | 0/20 [00:00<?, ?it/s]"
      ]
     },
     "metadata": {},
     "output_type": "display_data"
    },
    {
     "data": {
      "application/vnd.jupyter.widget-view+json": {
       "model_id": "aa9c356ae2f54d30a7373e6850cdcc8f",
       "version_major": 2,
       "version_minor": 0
      },
      "text/plain": [
       "  0%|          | 0/18 [00:00<?, ?it/s]"
      ]
     },
     "metadata": {},
     "output_type": "display_data"
    },
    {
     "data": {
      "application/vnd.jupyter.widget-view+json": {
       "model_id": "4ea0041a086b4caf974d90a1214819d3",
       "version_major": 2,
       "version_minor": 0
      },
      "text/plain": [
       "  0%|          | 0/20 [00:00<?, ?it/s]"
      ]
     },
     "metadata": {},
     "output_type": "display_data"
    },
    {
     "data": {
      "application/vnd.jupyter.widget-view+json": {
       "model_id": "625d43a63f0343ddaf41be227325c747",
       "version_major": 2,
       "version_minor": 0
      },
      "text/plain": [
       "  0%|          | 0/20 [00:00<?, ?it/s]"
      ]
     },
     "metadata": {},
     "output_type": "display_data"
    },
    {
     "data": {
      "application/vnd.jupyter.widget-view+json": {
       "model_id": "4fee39275e1e44a5b3840a3d209350a9",
       "version_major": 2,
       "version_minor": 0
      },
      "text/plain": [
       "  0%|          | 0/20 [00:00<?, ?it/s]"
      ]
     },
     "metadata": {},
     "output_type": "display_data"
    },
    {
     "data": {
      "application/vnd.jupyter.widget-view+json": {
       "model_id": "f22018ae04634e6db4ec33ede72cdcb7",
       "version_major": 2,
       "version_minor": 0
      },
      "text/plain": [
       "  0%|          | 0/20 [00:00<?, ?it/s]"
      ]
     },
     "metadata": {},
     "output_type": "display_data"
    },
    {
     "data": {
      "application/vnd.jupyter.widget-view+json": {
       "model_id": "045f347bcc314b18a728b4b1c31ec28b",
       "version_major": 2,
       "version_minor": 0
      },
      "text/plain": [
       "  0%|          | 0/20 [00:00<?, ?it/s]"
      ]
     },
     "metadata": {},
     "output_type": "display_data"
    },
    {
     "data": {
      "application/vnd.jupyter.widget-view+json": {
       "model_id": "742f04c525bf4100a760a40d9bbe3d36",
       "version_major": 2,
       "version_minor": 0
      },
      "text/plain": [
       "  0%|          | 0/20 [00:00<?, ?it/s]"
      ]
     },
     "metadata": {},
     "output_type": "display_data"
    },
    {
     "data": {
      "application/vnd.jupyter.widget-view+json": {
       "model_id": "daeed437a48d4a129ac02ea391d4c172",
       "version_major": 2,
       "version_minor": 0
      },
      "text/plain": [
       "  0%|          | 0/20 [00:00<?, ?it/s]"
      ]
     },
     "metadata": {},
     "output_type": "display_data"
    },
    {
     "data": {
      "application/vnd.jupyter.widget-view+json": {
       "model_id": "a9b0a1d4c81d4adba874de9d1cf86455",
       "version_major": 2,
       "version_minor": 0
      },
      "text/plain": [
       "  0%|          | 0/20 [00:00<?, ?it/s]"
      ]
     },
     "metadata": {},
     "output_type": "display_data"
    },
    {
     "data": {
      "application/vnd.jupyter.widget-view+json": {
       "model_id": "5ef86b295165449193b25e9be7016490",
       "version_major": 2,
       "version_minor": 0
      },
      "text/plain": [
       "  0%|          | 0/20 [00:00<?, ?it/s]"
      ]
     },
     "metadata": {},
     "output_type": "display_data"
    },
    {
     "data": {
      "application/vnd.jupyter.widget-view+json": {
       "model_id": "2515aa2eb5104a6f8bd5413809b6ba1b",
       "version_major": 2,
       "version_minor": 0
      },
      "text/plain": [
       "  0%|          | 0/20 [00:00<?, ?it/s]"
      ]
     },
     "metadata": {},
     "output_type": "display_data"
    },
    {
     "data": {
      "application/vnd.jupyter.widget-view+json": {
       "model_id": "f80ee9307185405a98e0a627c1dafa4a",
       "version_major": 2,
       "version_minor": 0
      },
      "text/plain": [
       "  0%|          | 0/20 [00:00<?, ?it/s]"
      ]
     },
     "metadata": {},
     "output_type": "display_data"
    },
    {
     "data": {
      "application/vnd.jupyter.widget-view+json": {
       "model_id": "af1bd715a72743b4937b3dc08f15eef2",
       "version_major": 2,
       "version_minor": 0
      },
      "text/plain": [
       "  0%|          | 0/20 [00:00<?, ?it/s]"
      ]
     },
     "metadata": {},
     "output_type": "display_data"
    },
    {
     "data": {
      "application/vnd.jupyter.widget-view+json": {
       "model_id": "374940fb650b4987a142fde0d67a28d2",
       "version_major": 2,
       "version_minor": 0
      },
      "text/plain": [
       "  0%|          | 0/20 [00:00<?, ?it/s]"
      ]
     },
     "metadata": {},
     "output_type": "display_data"
    },
    {
     "data": {
      "application/vnd.jupyter.widget-view+json": {
       "model_id": "cfecabfe830143feae6576ed7502fab6",
       "version_major": 2,
       "version_minor": 0
      },
      "text/plain": [
       "  0%|          | 0/20 [00:00<?, ?it/s]"
      ]
     },
     "metadata": {},
     "output_type": "display_data"
    },
    {
     "data": {
      "application/vnd.jupyter.widget-view+json": {
       "model_id": "1e1fc71c749549ebbe59626007da9851",
       "version_major": 2,
       "version_minor": 0
      },
      "text/plain": [
       "  0%|          | 0/20 [00:00<?, ?it/s]"
      ]
     },
     "metadata": {},
     "output_type": "display_data"
    },
    {
     "data": {
      "application/vnd.jupyter.widget-view+json": {
       "model_id": "84fcc725463e4fea8433bce62178d0bc",
       "version_major": 2,
       "version_minor": 0
      },
      "text/plain": [
       "  0%|          | 0/20 [00:00<?, ?it/s]"
      ]
     },
     "metadata": {},
     "output_type": "display_data"
    },
    {
     "data": {
      "application/vnd.jupyter.widget-view+json": {
       "model_id": "f8a40c948453426db55df46941bcd519",
       "version_major": 2,
       "version_minor": 0
      },
      "text/plain": [
       "  0%|          | 0/20 [00:00<?, ?it/s]"
      ]
     },
     "metadata": {},
     "output_type": "display_data"
    },
    {
     "data": {
      "application/vnd.jupyter.widget-view+json": {
       "model_id": "5924aefe0f3640fbaed5ad0f4c696f0e",
       "version_major": 2,
       "version_minor": 0
      },
      "text/plain": [
       "  0%|          | 0/20 [00:00<?, ?it/s]"
      ]
     },
     "metadata": {},
     "output_type": "display_data"
    },
    {
     "data": {
      "application/vnd.jupyter.widget-view+json": {
       "model_id": "dbce343991694f0f86b004943b4b8f50",
       "version_major": 2,
       "version_minor": 0
      },
      "text/plain": [
       "  0%|          | 0/18 [00:00<?, ?it/s]"
      ]
     },
     "metadata": {},
     "output_type": "display_data"
    },
    {
     "data": {
      "application/vnd.jupyter.widget-view+json": {
       "model_id": "461b3a435a9e4f469a6570f856c4a52b",
       "version_major": 2,
       "version_minor": 0
      },
      "text/plain": [
       "  0%|          | 0/20 [00:00<?, ?it/s]"
      ]
     },
     "metadata": {},
     "output_type": "display_data"
    },
    {
     "data": {
      "application/vnd.jupyter.widget-view+json": {
       "model_id": "2cc605f1d70d4efd8f343ef6d5af1c1b",
       "version_major": 2,
       "version_minor": 0
      },
      "text/plain": [
       "  0%|          | 0/20 [00:00<?, ?it/s]"
      ]
     },
     "metadata": {},
     "output_type": "display_data"
    },
    {
     "data": {
      "application/vnd.jupyter.widget-view+json": {
       "model_id": "01e8c825b2e04d7a9a7c9151d0a8e322",
       "version_major": 2,
       "version_minor": 0
      },
      "text/plain": [
       "  0%|          | 0/20 [00:00<?, ?it/s]"
      ]
     },
     "metadata": {},
     "output_type": "display_data"
    },
    {
     "data": {
      "application/vnd.jupyter.widget-view+json": {
       "model_id": "9877e7365dfd435dba84f3328708fd42",
       "version_major": 2,
       "version_minor": 0
      },
      "text/plain": [
       "  0%|          | 0/20 [00:00<?, ?it/s]"
      ]
     },
     "metadata": {},
     "output_type": "display_data"
    },
    {
     "data": {
      "application/vnd.jupyter.widget-view+json": {
       "model_id": "d35b87534b474ed0ad6772d188427368",
       "version_major": 2,
       "version_minor": 0
      },
      "text/plain": [
       "  0%|          | 0/20 [00:00<?, ?it/s]"
      ]
     },
     "metadata": {},
     "output_type": "display_data"
    },
    {
     "data": {
      "application/vnd.jupyter.widget-view+json": {
       "model_id": "071aa08c94d0486cb161c40a1b0c1af4",
       "version_major": 2,
       "version_minor": 0
      },
      "text/plain": [
       "  0%|          | 0/20 [00:00<?, ?it/s]"
      ]
     },
     "metadata": {},
     "output_type": "display_data"
    },
    {
     "data": {
      "application/vnd.jupyter.widget-view+json": {
       "model_id": "fcb4538a9b054970a0d39e471ba63fe9",
       "version_major": 2,
       "version_minor": 0
      },
      "text/plain": [
       "  0%|          | 0/20 [00:00<?, ?it/s]"
      ]
     },
     "metadata": {},
     "output_type": "display_data"
    },
    {
     "data": {
      "application/vnd.jupyter.widget-view+json": {
       "model_id": "ed9c631eee5b485c8546fc215bafc62a",
       "version_major": 2,
       "version_minor": 0
      },
      "text/plain": [
       "  0%|          | 0/20 [00:00<?, ?it/s]"
      ]
     },
     "metadata": {},
     "output_type": "display_data"
    },
    {
     "data": {
      "application/vnd.jupyter.widget-view+json": {
       "model_id": "a27d68f411e24f3f940b796a1fcc683e",
       "version_major": 2,
       "version_minor": 0
      },
      "text/plain": [
       "  0%|          | 0/20 [00:00<?, ?it/s]"
      ]
     },
     "metadata": {},
     "output_type": "display_data"
    },
    {
     "data": {
      "application/vnd.jupyter.widget-view+json": {
       "model_id": "fe006d2de0744d6b9164ca04fe39a507",
       "version_major": 2,
       "version_minor": 0
      },
      "text/plain": [
       "  0%|          | 0/20 [00:00<?, ?it/s]"
      ]
     },
     "metadata": {},
     "output_type": "display_data"
    },
    {
     "data": {
      "application/vnd.jupyter.widget-view+json": {
       "model_id": "819482804f4b47abb9eefc881aa3a5ac",
       "version_major": 2,
       "version_minor": 0
      },
      "text/plain": [
       "  0%|          | 0/20 [00:00<?, ?it/s]"
      ]
     },
     "metadata": {},
     "output_type": "display_data"
    },
    {
     "data": {
      "application/vnd.jupyter.widget-view+json": {
       "model_id": "0456c82f117d449780cbb2139a7b7f1a",
       "version_major": 2,
       "version_minor": 0
      },
      "text/plain": [
       "  0%|          | 0/20 [00:00<?, ?it/s]"
      ]
     },
     "metadata": {},
     "output_type": "display_data"
    },
    {
     "data": {
      "application/vnd.jupyter.widget-view+json": {
       "model_id": "dfc991d4bd1b496bb3561157f742cd3c",
       "version_major": 2,
       "version_minor": 0
      },
      "text/plain": [
       "  0%|          | 0/20 [00:00<?, ?it/s]"
      ]
     },
     "metadata": {},
     "output_type": "display_data"
    },
    {
     "data": {
      "application/vnd.jupyter.widget-view+json": {
       "model_id": "1b5294a692a3442db3f11567fea98d76",
       "version_major": 2,
       "version_minor": 0
      },
      "text/plain": [
       "  0%|          | 0/20 [00:00<?, ?it/s]"
      ]
     },
     "metadata": {},
     "output_type": "display_data"
    },
    {
     "data": {
      "application/vnd.jupyter.widget-view+json": {
       "model_id": "6f430552cb8c4ac49b525c5d9614cb36",
       "version_major": 2,
       "version_minor": 0
      },
      "text/plain": [
       "  0%|          | 0/20 [00:00<?, ?it/s]"
      ]
     },
     "metadata": {},
     "output_type": "display_data"
    },
    {
     "data": {
      "application/vnd.jupyter.widget-view+json": {
       "model_id": "96d8a28ac0cf4d0da10762901a29cbb1",
       "version_major": 2,
       "version_minor": 0
      },
      "text/plain": [
       "  0%|          | 0/20 [00:00<?, ?it/s]"
      ]
     },
     "metadata": {},
     "output_type": "display_data"
    },
    {
     "data": {
      "application/vnd.jupyter.widget-view+json": {
       "model_id": "ab7ccb1719144ae48583bdbd22dc9550",
       "version_major": 2,
       "version_minor": 0
      },
      "text/plain": [
       "  0%|          | 0/20 [00:00<?, ?it/s]"
      ]
     },
     "metadata": {},
     "output_type": "display_data"
    },
    {
     "data": {
      "application/vnd.jupyter.widget-view+json": {
       "model_id": "8275114221054cee9654b580f3b9f7d7",
       "version_major": 2,
       "version_minor": 0
      },
      "text/plain": [
       "  0%|          | 0/20 [00:00<?, ?it/s]"
      ]
     },
     "metadata": {},
     "output_type": "display_data"
    },
    {
     "data": {
      "application/vnd.jupyter.widget-view+json": {
       "model_id": "e01f2c368d4e49a881a9623bee1b438a",
       "version_major": 2,
       "version_minor": 0
      },
      "text/plain": [
       "  0%|          | 0/18 [00:00<?, ?it/s]"
      ]
     },
     "metadata": {},
     "output_type": "display_data"
    },
    {
     "data": {
      "application/vnd.jupyter.widget-view+json": {
       "model_id": "1cf534cb379b42d6b17eca3bb132465c",
       "version_major": 2,
       "version_minor": 0
      },
      "text/plain": [
       "  0%|          | 0/20 [00:00<?, ?it/s]"
      ]
     },
     "metadata": {},
     "output_type": "display_data"
    },
    {
     "data": {
      "application/vnd.jupyter.widget-view+json": {
       "model_id": "08011762a7304095bc923490cd32acc3",
       "version_major": 2,
       "version_minor": 0
      },
      "text/plain": [
       "  0%|          | 0/20 [00:00<?, ?it/s]"
      ]
     },
     "metadata": {},
     "output_type": "display_data"
    },
    {
     "data": {
      "application/vnd.jupyter.widget-view+json": {
       "model_id": "b4b16f06780f492f9c83c7ffeb8cb4fb",
       "version_major": 2,
       "version_minor": 0
      },
      "text/plain": [
       "  0%|          | 0/20 [00:00<?, ?it/s]"
      ]
     },
     "metadata": {},
     "output_type": "display_data"
    },
    {
     "data": {
      "application/vnd.jupyter.widget-view+json": {
       "model_id": "a666444f71b3445e82c9bf5b6dfe5c21",
       "version_major": 2,
       "version_minor": 0
      },
      "text/plain": [
       "  0%|          | 0/20 [00:00<?, ?it/s]"
      ]
     },
     "metadata": {},
     "output_type": "display_data"
    },
    {
     "data": {
      "application/vnd.jupyter.widget-view+json": {
       "model_id": "b94eafd046bc4ecd9f8451597189023b",
       "version_major": 2,
       "version_minor": 0
      },
      "text/plain": [
       "  0%|          | 0/20 [00:00<?, ?it/s]"
      ]
     },
     "metadata": {},
     "output_type": "display_data"
    },
    {
     "data": {
      "application/vnd.jupyter.widget-view+json": {
       "model_id": "8e99b3a5426e40e3a95b6e9a10d6595c",
       "version_major": 2,
       "version_minor": 0
      },
      "text/plain": [
       "  0%|          | 0/20 [00:00<?, ?it/s]"
      ]
     },
     "metadata": {},
     "output_type": "display_data"
    },
    {
     "data": {
      "application/vnd.jupyter.widget-view+json": {
       "model_id": "0f524024f96d446b926023b1e08fb438",
       "version_major": 2,
       "version_minor": 0
      },
      "text/plain": [
       "  0%|          | 0/20 [00:00<?, ?it/s]"
      ]
     },
     "metadata": {},
     "output_type": "display_data"
    },
    {
     "data": {
      "application/vnd.jupyter.widget-view+json": {
       "model_id": "ac4472bb880348dc80c2d50f41f8c666",
       "version_major": 2,
       "version_minor": 0
      },
      "text/plain": [
       "  0%|          | 0/20 [00:00<?, ?it/s]"
      ]
     },
     "metadata": {},
     "output_type": "display_data"
    },
    {
     "data": {
      "application/vnd.jupyter.widget-view+json": {
       "model_id": "3b283661ff7947a8b78edffa1a5ce765",
       "version_major": 2,
       "version_minor": 0
      },
      "text/plain": [
       "  0%|          | 0/20 [00:00<?, ?it/s]"
      ]
     },
     "metadata": {},
     "output_type": "display_data"
    },
    {
     "data": {
      "application/vnd.jupyter.widget-view+json": {
       "model_id": "18fbf3decf224cceaf63d95b8eb9b291",
       "version_major": 2,
       "version_minor": 0
      },
      "text/plain": [
       "  0%|          | 0/20 [00:00<?, ?it/s]"
      ]
     },
     "metadata": {},
     "output_type": "display_data"
    },
    {
     "data": {
      "application/vnd.jupyter.widget-view+json": {
       "model_id": "84a6220d317f4528b50f9c329364594b",
       "version_major": 2,
       "version_minor": 0
      },
      "text/plain": [
       "  0%|          | 0/20 [00:00<?, ?it/s]"
      ]
     },
     "metadata": {},
     "output_type": "display_data"
    },
    {
     "data": {
      "application/vnd.jupyter.widget-view+json": {
       "model_id": "c553b741410a422686944343857978a2",
       "version_major": 2,
       "version_minor": 0
      },
      "text/plain": [
       "  0%|          | 0/20 [00:00<?, ?it/s]"
      ]
     },
     "metadata": {},
     "output_type": "display_data"
    },
    {
     "data": {
      "application/vnd.jupyter.widget-view+json": {
       "model_id": "0ea9090a801e48ca8070da2f52d72aa8",
       "version_major": 2,
       "version_minor": 0
      },
      "text/plain": [
       "  0%|          | 0/20 [00:00<?, ?it/s]"
      ]
     },
     "metadata": {},
     "output_type": "display_data"
    },
    {
     "data": {
      "application/vnd.jupyter.widget-view+json": {
       "model_id": "fb2fc81a589940389d2223affc62f43b",
       "version_major": 2,
       "version_minor": 0
      },
      "text/plain": [
       "  0%|          | 0/20 [00:00<?, ?it/s]"
      ]
     },
     "metadata": {},
     "output_type": "display_data"
    },
    {
     "data": {
      "application/vnd.jupyter.widget-view+json": {
       "model_id": "33f1b5de9b004aa2968337dc00f9bb75",
       "version_major": 2,
       "version_minor": 0
      },
      "text/plain": [
       "  0%|          | 0/20 [00:00<?, ?it/s]"
      ]
     },
     "metadata": {},
     "output_type": "display_data"
    },
    {
     "data": {
      "application/vnd.jupyter.widget-view+json": {
       "model_id": "",
       "version_major": 2,
       "version_minor": 0
      },
      "text/plain": [
       "  0%|          | 0/20 [00:00<?, ?it/s]"
      ]
     },
     "metadata": {},
     "output_type": "display_data"
    },
    {
     "data": {
      "application/vnd.jupyter.widget-view+json": {
       "model_id": "",
       "version_major": 2,
       "version_minor": 0
      },
      "text/plain": [
       "  0%|          | 0/20 [00:00<?, ?it/s]"
      ]
     },
     "metadata": {},
     "output_type": "display_data"
    },
    {
     "data": {
      "application/vnd.jupyter.widget-view+json": {
       "model_id": "",
       "version_major": 2,
       "version_minor": 0
      },
      "text/plain": [
       "  0%|          | 0/20 [00:00<?, ?it/s]"
      ]
     },
     "metadata": {},
     "output_type": "display_data"
    },
    {
     "data": {
      "application/vnd.jupyter.widget-view+json": {
       "model_id": "30616e0ee6694786bd3b820be0f373c5",
       "version_major": 2,
       "version_minor": 0
      },
      "text/plain": [
       "  0%|          | 0/18 [00:00<?, ?it/s]"
      ]
     },
     "metadata": {},
     "output_type": "display_data"
    },
    {
     "data": {
      "application/vnd.jupyter.widget-view+json": {
       "model_id": "",
       "version_major": 2,
       "version_minor": 0
      },
      "text/plain": [
       "  0%|          | 0/20 [00:00<?, ?it/s]"
      ]
     },
     "metadata": {},
     "output_type": "display_data"
    },
    {
     "data": {
      "application/vnd.jupyter.widget-view+json": {
       "model_id": "",
       "version_major": 2,
       "version_minor": 0
      },
      "text/plain": [
       "  0%|          | 0/20 [00:00<?, ?it/s]"
      ]
     },
     "metadata": {},
     "output_type": "display_data"
    },
    {
     "data": {
      "application/vnd.jupyter.widget-view+json": {
       "model_id": "",
       "version_major": 2,
       "version_minor": 0
      },
      "text/plain": [
       "  0%|          | 0/20 [00:00<?, ?it/s]"
      ]
     },
     "metadata": {},
     "output_type": "display_data"
    },
    {
     "data": {
      "application/vnd.jupyter.widget-view+json": {
       "model_id": "",
       "version_major": 2,
       "version_minor": 0
      },
      "text/plain": [
       "  0%|          | 0/20 [00:00<?, ?it/s]"
      ]
     },
     "metadata": {},
     "output_type": "display_data"
    },
    {
     "data": {
      "application/vnd.jupyter.widget-view+json": {
       "model_id": "",
       "version_major": 2,
       "version_minor": 0
      },
      "text/plain": [
       "  0%|          | 0/20 [00:00<?, ?it/s]"
      ]
     },
     "metadata": {},
     "output_type": "display_data"
    },
    {
     "data": {
      "application/vnd.jupyter.widget-view+json": {
       "model_id": "",
       "version_major": 2,
       "version_minor": 0
      },
      "text/plain": [
       "  0%|          | 0/20 [00:00<?, ?it/s]"
      ]
     },
     "metadata": {},
     "output_type": "display_data"
    },
    {
     "data": {
      "application/vnd.jupyter.widget-view+json": {
       "model_id": "",
       "version_major": 2,
       "version_minor": 0
      },
      "text/plain": [
       "  0%|          | 0/20 [00:00<?, ?it/s]"
      ]
     },
     "metadata": {},
     "output_type": "display_data"
    },
    {
     "data": {
      "application/vnd.jupyter.widget-view+json": {
       "model_id": "",
       "version_major": 2,
       "version_minor": 0
      },
      "text/plain": [
       "  0%|          | 0/20 [00:00<?, ?it/s]"
      ]
     },
     "metadata": {},
     "output_type": "display_data"
    },
    {
     "data": {
      "application/vnd.jupyter.widget-view+json": {
       "model_id": "",
       "version_major": 2,
       "version_minor": 0
      },
      "text/plain": [
       "  0%|          | 0/20 [00:00<?, ?it/s]"
      ]
     },
     "metadata": {},
     "output_type": "display_data"
    },
    {
     "data": {
      "application/vnd.jupyter.widget-view+json": {
       "model_id": "",
       "version_major": 2,
       "version_minor": 0
      },
      "text/plain": [
       "  0%|          | 0/20 [00:00<?, ?it/s]"
      ]
     },
     "metadata": {},
     "output_type": "display_data"
    },
    {
     "data": {
      "application/vnd.jupyter.widget-view+json": {
       "model_id": "",
       "version_major": 2,
       "version_minor": 0
      },
      "text/plain": [
       "  0%|          | 0/20 [00:00<?, ?it/s]"
      ]
     },
     "metadata": {},
     "output_type": "display_data"
    },
    {
     "data": {
      "application/vnd.jupyter.widget-view+json": {
       "model_id": "",
       "version_major": 2,
       "version_minor": 0
      },
      "text/plain": [
       "  0%|          | 0/20 [00:00<?, ?it/s]"
      ]
     },
     "metadata": {},
     "output_type": "display_data"
    },
    {
     "data": {
      "application/vnd.jupyter.widget-view+json": {
       "model_id": "",
       "version_major": 2,
       "version_minor": 0
      },
      "text/plain": [
       "  0%|          | 0/20 [00:00<?, ?it/s]"
      ]
     },
     "metadata": {},
     "output_type": "display_data"
    },
    {
     "data": {
      "application/vnd.jupyter.widget-view+json": {
       "model_id": "",
       "version_major": 2,
       "version_minor": 0
      },
      "text/plain": [
       "  0%|          | 0/20 [00:00<?, ?it/s]"
      ]
     },
     "metadata": {},
     "output_type": "display_data"
    },
    {
     "data": {
      "application/vnd.jupyter.widget-view+json": {
       "model_id": "",
       "version_major": 2,
       "version_minor": 0
      },
      "text/plain": [
       "  0%|          | 0/20 [00:00<?, ?it/s]"
      ]
     },
     "metadata": {},
     "output_type": "display_data"
    },
    {
     "data": {
      "application/vnd.jupyter.widget-view+json": {
       "model_id": "",
       "version_major": 2,
       "version_minor": 0
      },
      "text/plain": [
       "  0%|          | 0/20 [00:00<?, ?it/s]"
      ]
     },
     "metadata": {},
     "output_type": "display_data"
    },
    {
     "data": {
      "application/vnd.jupyter.widget-view+json": {
       "model_id": "",
       "version_major": 2,
       "version_minor": 0
      },
      "text/plain": [
       "  0%|          | 0/20 [00:00<?, ?it/s]"
      ]
     },
     "metadata": {},
     "output_type": "display_data"
    },
    {
     "data": {
      "application/vnd.jupyter.widget-view+json": {
       "model_id": "",
       "version_major": 2,
       "version_minor": 0
      },
      "text/plain": [
       "  0%|          | 0/20 [00:00<?, ?it/s]"
      ]
     },
     "metadata": {},
     "output_type": "display_data"
    },
    {
     "data": {
      "application/vnd.jupyter.widget-view+json": {
       "model_id": "d11e76657dc546b2b71f55dc66a1c1c4",
       "version_major": 2,
       "version_minor": 0
      },
      "text/plain": [
       "  0%|          | 0/18 [00:00<?, ?it/s]"
      ]
     },
     "metadata": {},
     "output_type": "display_data"
    },
    {
     "data": {
      "application/vnd.jupyter.widget-view+json": {
       "model_id": "",
       "version_major": 2,
       "version_minor": 0
      },
      "text/plain": [
       "  0%|          | 0/20 [00:00<?, ?it/s]"
      ]
     },
     "metadata": {},
     "output_type": "display_data"
    },
    {
     "data": {
      "application/vnd.jupyter.widget-view+json": {
       "model_id": "",
       "version_major": 2,
       "version_minor": 0
      },
      "text/plain": [
       "  0%|          | 0/20 [00:00<?, ?it/s]"
      ]
     },
     "metadata": {},
     "output_type": "display_data"
    },
    {
     "data": {
      "application/vnd.jupyter.widget-view+json": {
       "model_id": "",
       "version_major": 2,
       "version_minor": 0
      },
      "text/plain": [
       "  0%|          | 0/20 [00:00<?, ?it/s]"
      ]
     },
     "metadata": {},
     "output_type": "display_data"
    },
    {
     "data": {
      "application/vnd.jupyter.widget-view+json": {
       "model_id": "",
       "version_major": 2,
       "version_minor": 0
      },
      "text/plain": [
       "  0%|          | 0/20 [00:00<?, ?it/s]"
      ]
     },
     "metadata": {},
     "output_type": "display_data"
    },
    {
     "data": {
      "application/vnd.jupyter.widget-view+json": {
       "model_id": "",
       "version_major": 2,
       "version_minor": 0
      },
      "text/plain": [
       "  0%|          | 0/20 [00:00<?, ?it/s]"
      ]
     },
     "metadata": {},
     "output_type": "display_data"
    },
    {
     "data": {
      "application/vnd.jupyter.widget-view+json": {
       "model_id": "",
       "version_major": 2,
       "version_minor": 0
      },
      "text/plain": [
       "  0%|          | 0/20 [00:00<?, ?it/s]"
      ]
     },
     "metadata": {},
     "output_type": "display_data"
    },
    {
     "data": {
      "application/vnd.jupyter.widget-view+json": {
       "model_id": "",
       "version_major": 2,
       "version_minor": 0
      },
      "text/plain": [
       "  0%|          | 0/20 [00:00<?, ?it/s]"
      ]
     },
     "metadata": {},
     "output_type": "display_data"
    },
    {
     "data": {
      "application/vnd.jupyter.widget-view+json": {
       "model_id": "",
       "version_major": 2,
       "version_minor": 0
      },
      "text/plain": [
       "  0%|          | 0/20 [00:00<?, ?it/s]"
      ]
     },
     "metadata": {},
     "output_type": "display_data"
    },
    {
     "data": {
      "application/vnd.jupyter.widget-view+json": {
       "model_id": "",
       "version_major": 2,
       "version_minor": 0
      },
      "text/plain": [
       "  0%|          | 0/20 [00:00<?, ?it/s]"
      ]
     },
     "metadata": {},
     "output_type": "display_data"
    },
    {
     "data": {
      "application/vnd.jupyter.widget-view+json": {
       "model_id": "",
       "version_major": 2,
       "version_minor": 0
      },
      "text/plain": [
       "  0%|          | 0/20 [00:00<?, ?it/s]"
      ]
     },
     "metadata": {},
     "output_type": "display_data"
    },
    {
     "data": {
      "application/vnd.jupyter.widget-view+json": {
       "model_id": "",
       "version_major": 2,
       "version_minor": 0
      },
      "text/plain": [
       "  0%|          | 0/20 [00:00<?, ?it/s]"
      ]
     },
     "metadata": {},
     "output_type": "display_data"
    },
    {
     "data": {
      "application/vnd.jupyter.widget-view+json": {
       "model_id": "",
       "version_major": 2,
       "version_minor": 0
      },
      "text/plain": [
       "  0%|          | 0/20 [00:00<?, ?it/s]"
      ]
     },
     "metadata": {},
     "output_type": "display_data"
    },
    {
     "data": {
      "application/vnd.jupyter.widget-view+json": {
       "model_id": "",
       "version_major": 2,
       "version_minor": 0
      },
      "text/plain": [
       "  0%|          | 0/20 [00:00<?, ?it/s]"
      ]
     },
     "metadata": {},
     "output_type": "display_data"
    },
    {
     "data": {
      "application/vnd.jupyter.widget-view+json": {
       "model_id": "",
       "version_major": 2,
       "version_minor": 0
      },
      "text/plain": [
       "  0%|          | 0/20 [00:00<?, ?it/s]"
      ]
     },
     "metadata": {},
     "output_type": "display_data"
    },
    {
     "data": {
      "application/vnd.jupyter.widget-view+json": {
       "model_id": "",
       "version_major": 2,
       "version_minor": 0
      },
      "text/plain": [
       "  0%|          | 0/20 [00:00<?, ?it/s]"
      ]
     },
     "metadata": {},
     "output_type": "display_data"
    },
    {
     "data": {
      "application/vnd.jupyter.widget-view+json": {
       "model_id": "",
       "version_major": 2,
       "version_minor": 0
      },
      "text/plain": [
       "  0%|          | 0/20 [00:00<?, ?it/s]"
      ]
     },
     "metadata": {},
     "output_type": "display_data"
    },
    {
     "data": {
      "application/vnd.jupyter.widget-view+json": {
       "model_id": "",
       "version_major": 2,
       "version_minor": 0
      },
      "text/plain": [
       "  0%|          | 0/20 [00:00<?, ?it/s]"
      ]
     },
     "metadata": {},
     "output_type": "display_data"
    },
    {
     "data": {
      "application/vnd.jupyter.widget-view+json": {
       "model_id": "",
       "version_major": 2,
       "version_minor": 0
      },
      "text/plain": [
       "  0%|          | 0/20 [00:00<?, ?it/s]"
      ]
     },
     "metadata": {},
     "output_type": "display_data"
    }
   ],
   "source": [
    "cvR2_all_t = []\n",
    "deltaR2_all_t = []\n",
    "for f in range(len(files)) :\n",
    "    #idx = 0\n",
    "    \n",
    "    d = data_full[files[f]]\n",
    "    \n",
    "    pca2_i = pca2_s[f]\n",
    "    \n",
    "    \n",
    "    D = np.stack(d['Traj'])\n",
    "    \n",
    "    X = produce_X(d)\n",
    "    \n",
    "    reg_t = []\n",
    "    scores_t = []\n",
    "    deltaR2_t = []\n",
    "    cvR2_t = []\n",
    "    for t in tqdm(range(np.shape(D)[1])) :\n",
    "        M = D[:,t,:]\n",
    "        M = standardize(M)\n",
    "        M = np.dot(M, pca2_i.T)\n",
    "        \n",
    "\n",
    "        inverse_transform = True\n",
    "        if inverse_transform :\n",
    "            Y = standardize(np.dot(M, pca2_i))\n",
    "        else :\n",
    "            Y = standardize(M)\n",
    "        \n",
    "        reg, scores, deltaR2, cvR2  = compute_regression(X,Y, alpha=1, nb_fold = 5, nb_permu = 20, stats = True, return_permu_models=False)\n",
    "    \n",
    "        reg_t.append(reg)\n",
    "        scores_t.append(scores)\n",
    "        deltaR2_t.append(deltaR2)\n",
    "        cvR2_t.append(cvR2)\n",
    "\n",
    "\n",
    "    reg_t = np.array(reg_t)\n",
    "    scores_t = np.array(scores_t)\n",
    "    deltaR2_t = np.array(deltaR2_t)\n",
    "    cvR2_t = np.array(cvR2_t)\n",
    "\n",
    "    cvR2_all_t.append(cvR2_t)\n",
    "    deltaR2_all_t.append(deltaR2_t)\n",
    "\n",
    "cvR2_all_t = np.concatenate(cvR2_all_t,axis=3)\n",
    "deltaR2_all_t = np.concatenate(deltaR2_all_t,axis=3)\n"
   ]
  },
  {
   "cell_type": "code",
   "execution_count": 339,
   "id": "685eb4cc-1c0f-4e35-94bb-1bead3ef74fa",
   "metadata": {},
   "outputs": [
    {
     "data": {
      "text/plain": [
       "(18, 5, 7, 2389)"
      ]
     },
     "execution_count": 339,
     "metadata": {},
     "output_type": "execute_result"
    }
   ],
   "source": [
    "np.shape(cvR2_all_t)"
   ]
  },
  {
   "cell_type": "code",
   "execution_count": 448,
   "id": "32375bd4-c3af-4db7-bdad-f71c457dfa38",
   "metadata": {},
   "outputs": [
    {
     "data": {
      "text/plain": [
       "\"\\nplt.savefig('Plots/PNG/cvR2_GNG_t.PNG', dpi = 300,bbox_inches='tight')\\nplt.savefig('Plots/SVG/cvR2_GNG_t.SVG', dpi = 300,bbox_inches='tight')\\n\""
      ]
     },
     "execution_count": 448,
     "metadata": {},
     "output_type": "execute_result"
    },
    {
     "data": {
      "image/png": "[encoded data removed]",
      "text/plain": [
       "<Figure size 1000x700 with 1 Axes>"
      ]
     },
     "metadata": {},
     "output_type": "display_data"
    }
   ],
   "source": [
    "plt.figure(figsize=(10,7))\n",
    "\n",
    "plot_labels = ['Category G/NG','Choice G/NG','Category L/R','Choice L/R','Lick L/R','Task']\n",
    "\n",
    "colors = ['#ee964b','#f4d35e','#ee964b','#f4d35e','#f95738','#6510CE']\n",
    "\n",
    "T = np.shape(cvR2_all_t)[0]\n",
    "\n",
    "for k in [2,3,4,5] :\n",
    "    values = [np.mean(cvR2_all_t[:,i,k,:], axis = 1) for i in range(np.shape(cvR2_all_t)[1])]\n",
    "    \n",
    "    for v in range(len(values)) :\n",
    "        values[v] = values[v]/np.max(values[v])\n",
    "    \n",
    "    values = np.array(values)\n",
    "    values_std = np.array([np.std(values[:,i], axis = 0) for i in range(np.shape(values)[1])])\n",
    "    values_error = values_std*1.96/np.sqrt(np.shape(cvR2_all_t)[-1])\n",
    "    values_mean = np.array([np.mean(values[:,i], axis = 0) for i in range(np.shape(values)[1])])\n",
    "    \n",
    "    T_smooth, values_mean = smooth(range(T),values_mean,100)\n",
    "    T_smooth, values_error = smooth(range(T),values_error,100)\n",
    "\n",
    "    for v in range(len(values_mean)) :\n",
    "        values_mean[v] = values_mean[v]/np.max(values_mean)\n",
    "\n",
    "    #max_val = np.max(values)\n",
    "    plt.plot(T_smooth,values_mean,label=plot_labels[k],c=colors[k],linewidth=3)\n",
    "    plt.fill_between(T_smooth,values_mean - values_error, values_mean + values_error, color = colors[k], alpha = 0.25)\n",
    "    \n",
    "plt.xlabel('Time (s)',fontsize=30)\n",
    "plt.ylim((-0.05,1.02))\n",
    "\n",
    "plt.xticks(np.linspace(0,T-1,7),[-1.5,-1,-0.5,0,0.5,1,1.5],fontsize=30)\n",
    "plt.yticks([0,1],['0','Max'],fontsize=30)\n",
    "#plt.ylabel(r'$cvR^2$' + '\\n (% maximum)',fontsize=30)\n",
    "plt.ylabel(r'Variance explained' + '\\n (% maximum)',fontsize=30)\n",
    "plt.legend(frameon=False,loc=(0,0.5))\n",
    "\n",
    "#plt.axvline(4.5,color='black')\n",
    "plt.fill_between([T//2-1/2,T-1],-0.05,1.02,color='grey',alpha=0.05)\n",
    "\n",
    "\n",
    "\"\"\"\n",
    "plt.savefig('Plots/PNG/cvR2_GNG_t.PNG', dpi = 300,bbox_inches='tight')\n",
    "plt.savefig('Plots/SVG/cvR2_GNG_t.SVG', dpi = 300,bbox_inches='tight')\n",
    "\"\"\""
   ]
  }
 ],
 "metadata": {
  "kernelspec": {
   "display_name": "Python 3 (ipykernel)",
   "language": "python",
   "name": "python3"
  },
  "language_info": {
   "codemirror_mode": {
    "name": "ipython",
    "version": 3
   },
   "file_extension": ".py",
   "mimetype": "text/x-python",
   "name": "python",
   "nbconvert_exporter": "python",
   "pygments_lexer": "ipython3",
   "version": "3.12.3"
  }
 },
 "nbformat": 4,
 "nbformat_minor": 5
}
