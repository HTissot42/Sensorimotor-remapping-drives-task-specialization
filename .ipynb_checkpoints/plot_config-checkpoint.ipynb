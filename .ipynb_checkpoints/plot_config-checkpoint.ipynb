{
 "cells": [
  {
   "cell_type": "code",
   "execution_count": 13,
   "id": "8705d5b7-dc93-4d16-b243-e1c12ea19a94",
   "metadata": {},
   "outputs": [],
   "source": [
    "import csv\n",
    "\n",
    "mpl_config = {'text.usetex': False,\n",
    "\"svg.fonttype\": 'none',\n",
    "'font.size': 25,\n",
    "'axes.spines.right':False,\n",
    "'axes.spines.top':False,\n",
    "'xtick.labelsize':24,\n",
    "'ytick.labelsize':24,\n",
    "'xtick.major.size':8,\n",
    "'ytick.major.size':8,\n",
    "'xtick.major.width':1.5,\n",
    "'ytick.major.width':1.5,\n",
    "'axes.labelsize': 25,\n",
    "\"errorbar.capsize\" : 5\n",
    "}\n",
    "\n",
    "#'xtick.major.width':2,\n",
    "#'ytick.major.width':2,\n",
    "\n",
    "with open('mpl_config.csv', 'w', newline='') as f:\n",
    "    w = csv.DictWriter(f, mpl_config.keys())\n",
    "    w.writeheader()\n",
    "    w.writerow(mpl_config)"
   ]
  }
 ],
 "metadata": {
  "kernelspec": {
   "display_name": "Python 3 (ipykernel)",
   "language": "python",
   "name": "python3"
  },
  "language_info": {
   "codemirror_mode": {
    "name": "ipython",
    "version": 3
   },
   "file_extension": ".py",
   "mimetype": "text/x-python",
   "name": "python",
   "nbconvert_exporter": "python",
   "pygments_lexer": "ipython3",
   "version": "3.12.4"
  }
 },
 "nbformat": 4,
 "nbformat_minor": 5
}
