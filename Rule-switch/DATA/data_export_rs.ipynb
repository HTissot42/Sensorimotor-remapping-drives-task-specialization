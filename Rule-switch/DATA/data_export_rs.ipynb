{
 "cells": [
  {
   "cell_type": "code",
   "execution_count": 7,
   "id": "0beb0994",
   "metadata": {},
   "outputs": [],
   "source": [
    "import numpy as np\n",
    "import pandas as pd\n",
    "import scipy.io\n",
    "import os"
   ]
  },
  {
   "cell_type": "markdown",
   "id": "02cec6db",
   "metadata": {
    "tags": []
   },
   "source": [
    "## Export into pickle all mice  (T5 and T8)"
   ]
  },
  {
   "cell_type": "code",
   "execution_count": 23,
   "id": "a52f7eee",
   "metadata": {},
   "outputs": [],
   "source": [
    "import scipy.io\n",
    "\n",
    "files = ['M01',\n",
    " 'M02',\n",
    " 'M03',\n",
    " 'M04',\n",
    " 'M05',\n",
    " 'M07_Region1',\n",
    " 'M07_Region2',\n",
    " 'M08_Region1',\n",
    " 'M08_Region2',\n",
    " 'M09_Region1',\n",
    " 'M09_Region2',\n",
    " 'M10_Region1',\n",
    " 'M11_Region1',\n",
    " 'M11_Region2']\n",
    "\n",
    "for file in files :\n",
    "    mat = scipy.io.loadmat('Mat/Mouse_' + file + '.mat')\n",
    "    mat = np.squeeze(mat['mouse_struct'])\n",
    "    \n",
    "    if (file == 'M01') or (file == 'M02') :\n",
    "        fields1 = list(mat[3]) #T5\n",
    "    else : \n",
    "        fields1 = list(mat[4])\n",
    "    \n",
    "    if (file == 'M06') :\n",
    "        fields2 = list(mat[-2])\n",
    "    else :\n",
    "        fields2 = list(mat[-1]) #T8\n",
    "    \n",
    "    columns1 = []\n",
    "    for f in fields1 :\n",
    "        field = np.array(f.tolist())\n",
    "        columns1.append(np.squeeze(field))\n",
    "        \n",
    "    columns2 = []\n",
    "    for f in fields2 :\n",
    "        field = np.array(f.tolist())\n",
    "        columns2.append(np.squeeze(field))\n",
    "\n",
    "\n",
    "    d1 = {'Category ID' : columns1[0], 'Stim ID' : columns1[1], \\\n",
    "         'Spatial frequency' : columns1[2], 'Orientation' : columns1[3], \\\n",
    "         'Choice' : columns1[4], 'Reward' : columns1[5], \\\n",
    "        'Running speed' : columns1[6], 'Spike rate' : columns1[7].T.tolist(),\n",
    "          'Active rule' : columns1[11]}\n",
    "    df1 = pd.DataFrame(data = d1, dtype = object)\n",
    "    \n",
    "    \n",
    "    d2 = {'Category ID' : columns2[0], 'Stim ID' : columns2[1], \\\n",
    "         'Spatial frequency' : columns2[2], 'Orientation' : columns2[3], \\\n",
    "         'Choice' : columns2[4], 'Reward' : columns2[5], \\\n",
    "        'Running speed' : columns2[6], 'Spike rate' : columns2[7].T.tolist(),\\\n",
    "          'Active rule' : columns2[11]}\n",
    "    df2 = pd.DataFrame(data = d2, dtype = object)\n",
    "\n",
    "    df1.to_pickle('Pickles/' + file + '_T5') \n",
    "    df2.to_pickle('Pickles/' + file + '_T8') "
   ]
  },
  {
   "cell_type": "code",
   "execution_count": null,
   "id": "662f361d-32e9-4aea-8404-f7c4694f3c0f",
   "metadata": {},
   "outputs": [],
   "source": []
  }
 ],
 "metadata": {
  "kernelspec": {
   "display_name": "Python 3 (ipykernel)",
   "language": "python",
   "name": "python3"
  },
  "language_info": {
   "codemirror_mode": {
    "name": "ipython",
    "version": 3
   },
   "file_extension": ".py",
   "mimetype": "text/x-python",
   "name": "python",
   "nbconvert_exporter": "python",
   "pygments_lexer": "ipython3",
   "version": "3.12.4"
  },
  "toc-autonumbering": true
 },
 "nbformat": 4,
 "nbformat_minor": 5
}
